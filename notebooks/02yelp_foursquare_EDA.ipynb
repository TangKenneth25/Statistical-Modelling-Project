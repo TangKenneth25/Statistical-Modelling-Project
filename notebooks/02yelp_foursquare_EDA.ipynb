{
 "cells": [
  {
   "cell_type": "code",
   "execution_count": 14,
   "metadata": {},
   "outputs": [],
   "source": [
    "# Importing Libraries\n",
    "import requests\n",
    "import json\n",
    "import pandas as pd\n",
    "import os"
   ]
  },
  {
   "cell_type": "code",
   "execution_count": 7,
   "metadata": {},
   "outputs": [],
   "source": [
    "# Loading CityBikes data from Part 1\n",
    "ReddingBikes = pd.read_csv('../data/ReddingBikesDF.csv')"
   ]
  },
  {
   "cell_type": "markdown",
   "metadata": {},
   "source": [
    "# [Foursquare](https://docs.foursquare.com/developer/reference/places-api-overview)"
   ]
  },
  {
   "cell_type": "markdown",
   "metadata": {},
   "source": [
    "### Send a request to Foursquare with a small radius (1000m) for all the bike stations in your city of choice. "
   ]
  },
  {
   "cell_type": "code",
   "execution_count": 3,
   "metadata": {},
   "outputs": [],
   "source": [
    "# Call Foursqaure API function\n",
    "def getVenuesFS(latitude, longitude, radius, api_key, categories, fields, limit):\n",
    "    \"\"\"\n",
    "    Get venues from foursquare with a specified place type and coordinates.\n",
    "    Args:\n",
    "        latitude (float): latitude for query (must be combined with longitude)\n",
    "        longitude (float): longitude for query (must be combined with latitude)\n",
    "        api_key (str): foursquare API to use for query\n",
    "        categories (str) : Foursquare category codes. Separate multiple ids with commas\n",
    "        fields (str): Foursquare fields. Seperate multiple fields with commas.\n",
    "        limit (int): Number of results to return, max 50\n",
    "    Returns:\n",
    "        response: response object from the requests library.\n",
    "    \"\"\"\n",
    "    headers = {\n",
    "        \"accept\": \"application/json\",\n",
    "        \"Authorization\": api_key\n",
    "    }\n",
    "\n",
    "    ll=str(latitude) + ',' + str(longitude)\n",
    "\n",
    "    url = f'https://api.foursquare.com/v3/places/search?ll={ll}&radius={radius}&categories={categories}&limit={str(limit)}&fields={fields}'\n",
    "\n",
    "    results = requests.get(url, headers=headers)\n",
    "\n",
    "    return results"
   ]
  },
  {
   "cell_type": "markdown",
   "metadata": {},
   "source": [
    "Foursquare [category codes](https://docs.foursquare.com/data-products/docs/categories) for Dining & Drinking and POIs\n",
    "* 13000 Dining & Drinking\n",
    "* 16000\tLandmarks and Outdoors\n"
   ]
  },
  {
   "cell_type": "code",
   "execution_count": 27,
   "metadata": {},
   "outputs": [],
   "source": [
    "# Setting Constant Variables \n",
    "FOURSQUARE_KEY = os.getenv('Foursquare_API_KEY')\n",
    "radius = 1000\n",
    "categories = '13000,16000'\n",
    "fields = 'fsq_id,name,location,categories,distance,verified,rating,stats,popularity,price'\n",
    "limit = 50"
   ]
  },
  {
   "cell_type": "code",
   "execution_count": 28,
   "metadata": {},
   "outputs": [],
   "source": [
    "# Pulling all info for each bike station into a list\n",
    "FoursquareVenues = [] \n",
    "\n",
    "for i in range(len(ReddingBikes)):\n",
    "    venues = getVenuesFS(ReddingBikes['latitude'][i], ReddingBikes['longitude'][i], radius, FOURSQUARE_KEY, categories, fields, limit).json()\n",
    "    FoursquareVenues.append(venues)    \n"
   ]
  },
  {
   "cell_type": "code",
   "execution_count": 29,
   "metadata": {},
   "outputs": [],
   "source": [
    "# Function to return category group using category id code\n",
    "def CategoryGroup(categoryID):\n",
    "    \"\"\"\n",
    "    Returns Foursquare Category Group from CategoryID \n",
    "\n",
    "    Args:\n",
    "        categoryID (str): String of category id code from foursqaure\n",
    "\n",
    "    Returns:\n",
    "        Category Group from foursquare codes\n",
    "    \"\"\"\n",
    "    if categoryID.startswith('10'): \n",
    "        return 'Arts and Entertainment'\n",
    "    elif categoryID.startswith('11'): \n",
    "        return 'Business and Professional Services'\n",
    "    elif categoryID.startswith('12'): \n",
    "        return 'Community and Government'\n",
    "    elif categoryID.startswith('13'): \n",
    "        return 'Dining and Drinking'\n",
    "    elif categoryID.startswith('14'): \n",
    "        return 'Event'\n",
    "    elif categoryID.startswith('15'): \n",
    "        return 'Health and Medicine'\n",
    "    elif categoryID.startswith('16'):\n",
    "        return 'Landmarks and Outdoors'\n",
    "    elif categoryID.startswith('17'): \n",
    "        return 'Retail'\n",
    "    elif categoryID.startswith('18'): \n",
    "        return 'Sports and Recreation'\n",
    "    elif categoryID.startswith('19'): \n",
    "        return 'Travel and Transportation'\n",
    "\n"
   ]
  },
  {
   "cell_type": "markdown",
   "metadata": {},
   "source": [
    "### Parse through the response to get the POI (such as restaurants, bars, etc) details you want (ratings, name, location, etc)"
   ]
  },
  {
   "cell_type": "code",
   "execution_count": 30,
   "metadata": {},
   "outputs": [],
   "source": [
    "# Function to return list of desired results from each Foursquare venue\n",
    "def ParseFoursqaureResults(venue): \n",
    "    \"\"\" \n",
    "    Parses elements from a venue in the list of results given by a Foursquare Query.\n",
    "\n",
    "    Args: \n",
    "        venue (dict): A venue from the list of Foursquare Venues for each station\n",
    "\n",
    "    Returns a list of preset elements in the following order from the venue.  \n",
    "    List order: ['fsqID', 'venueName', 'formattedAddress', 'catID', 'catName', 'catIDGroup', 'distance', 'rating', 'totalRatings', 'totalPhotos', 'totalTips', 'popularity', 'price', 'storeVerified']\n",
    "    \"\"\"\n",
    "    # FS core data. All venues have this information \n",
    "    fsqID = venue['fsq_id']\n",
    "    venueName = venue['name']\n",
    "    formattedAddress = venue['location']['formatted_address']\n",
    "    catID = venue['categories'][0]['id']\n",
    "    catName = venue['categories'][0]['name']\n",
    "    catIDGroup = CategoryGroup(str(catID))\n",
    "    distance = venue['distance']\n",
    "    \n",
    "    # FS Rich data. Fields which may not exist\n",
    "    try:\n",
    "        rating = venue['rating']\n",
    "    except: \n",
    "        rating = None\n",
    "\n",
    "    try:\n",
    "        totalRatings = venue['stats']['total_ratings']\n",
    "        totalPhotos = venue['stats']['total_photos']\n",
    "        totalTips = venue['stats']['total_tips']\n",
    "    except: \n",
    "        totalRatings = None\n",
    "        totalPhotos = None\n",
    "        totalTips = None\n",
    "\n",
    "    try:\n",
    "        popularity = venue['popularity']\n",
    "    except: \n",
    "        popularity = None\n",
    "\n",
    "    try:\n",
    "        price = venue['price']\n",
    "    except: \n",
    "        price = None\n",
    "\n",
    "    try:\n",
    "        storeVerified = venue['verified']    \n",
    "    except: \n",
    "        storeVerified = None\n",
    "\n",
    "    returnList = [fsqID, venueName, formattedAddress, catID, catName, catIDGroup, distance, rating, totalRatings, totalPhotos, totalTips, popularity, price, storeVerified]\n",
    "\n",
    "    return returnList"
   ]
  },
  {
   "cell_type": "code",
   "execution_count": 31,
   "metadata": {},
   "outputs": [],
   "source": [
    "# Parsing all results into a list using function for tidy data that can be converted to DF\n",
    "fsVenuesList = []\n",
    "\n",
    "for i in range(len(FoursquareVenues)):\n",
    "    for venues in FoursquareVenues[i]['results']:\n",
    "        returnList = ParseFoursqaureResults(venues)\n",
    "        returnList.append(i)\n",
    "        fsVenuesList.append(returnList)"
   ]
  },
  {
   "cell_type": "markdown",
   "metadata": {},
   "source": [
    "### Put your parsed results into a DataFrame"
   ]
  },
  {
   "cell_type": "code",
   "execution_count": 32,
   "metadata": {},
   "outputs": [],
   "source": [
    "fsColumnsHeader = ['fsqID', 'venueName', 'formattedAddress', 'catID', 'catName', 'catIDGroup', 'distance', 'rating', 'totalRatings', 'totalPhotos', 'totalTips', 'popularity', 'price', 'storeVerified','stationIndex']\n",
    "\n",
    "FSVenuesDF = pd.DataFrame(fsVenuesList)\n",
    "FSVenuesDF.columns=fsColumnsHeader"
   ]
  },
  {
   "cell_type": "code",
   "execution_count": 33,
   "metadata": {},
   "outputs": [
    {
     "data": {
      "text/html": [
       "<div>\n",
       "<style scoped>\n",
       "    .dataframe tbody tr th:only-of-type {\n",
       "        vertical-align: middle;\n",
       "    }\n",
       "\n",
       "    .dataframe tbody tr th {\n",
       "        vertical-align: top;\n",
       "    }\n",
       "\n",
       "    .dataframe thead th {\n",
       "        text-align: right;\n",
       "    }\n",
       "</style>\n",
       "<table border=\"1\" class=\"dataframe\">\n",
       "  <thead>\n",
       "    <tr style=\"text-align: right;\">\n",
       "      <th></th>\n",
       "      <th>fsqID</th>\n",
       "      <th>venueName</th>\n",
       "      <th>formattedAddress</th>\n",
       "      <th>catID</th>\n",
       "      <th>catName</th>\n",
       "      <th>catIDGroup</th>\n",
       "      <th>distance</th>\n",
       "      <th>rating</th>\n",
       "      <th>totalRatings</th>\n",
       "      <th>totalPhotos</th>\n",
       "      <th>totalTips</th>\n",
       "      <th>popularity</th>\n",
       "      <th>price</th>\n",
       "      <th>storeVerified</th>\n",
       "      <th>stationIndex</th>\n",
       "    </tr>\n",
       "  </thead>\n",
       "  <tbody>\n",
       "    <tr>\n",
       "      <th>0</th>\n",
       "      <td>4b5138a2f964a520cc4727e3</td>\n",
       "      <td>Market Street Steakhouse</td>\n",
       "      <td>1777 Market St, Redding, CA 96001</td>\n",
       "      <td>13383</td>\n",
       "      <td>Steakhouse</td>\n",
       "      <td>Dining and Drinking</td>\n",
       "      <td>188</td>\n",
       "      <td>8.7</td>\n",
       "      <td>14.0</td>\n",
       "      <td>12.0</td>\n",
       "      <td>6.0</td>\n",
       "      <td>0.966425</td>\n",
       "      <td>3.0</td>\n",
       "      <td>False</td>\n",
       "      <td>0</td>\n",
       "    </tr>\n",
       "    <tr>\n",
       "      <th>1</th>\n",
       "      <td>581ccd7f0d63b178d22e9e54</td>\n",
       "      <td>Theory Collaborative</td>\n",
       "      <td>1250 California St, Redding, CA 96001</td>\n",
       "      <td>13034</td>\n",
       "      <td>Café</td>\n",
       "      <td>Dining and Drinking</td>\n",
       "      <td>818</td>\n",
       "      <td>8.9</td>\n",
       "      <td>35.0</td>\n",
       "      <td>34.0</td>\n",
       "      <td>4.0</td>\n",
       "      <td>0.978524</td>\n",
       "      <td>1.0</td>\n",
       "      <td>True</td>\n",
       "      <td>0</td>\n",
       "    </tr>\n",
       "    <tr>\n",
       "      <th>2</th>\n",
       "      <td>4b636603f964a520ff762ae3</td>\n",
       "      <td>Taqueria Los Gordos</td>\n",
       "      <td>1400 Pine St (Tehama), Redding, CA 96001</td>\n",
       "      <td>13099</td>\n",
       "      <td>Chinese Restaurant</td>\n",
       "      <td>Dining and Drinking</td>\n",
       "      <td>621</td>\n",
       "      <td>8.1</td>\n",
       "      <td>28.0</td>\n",
       "      <td>15.0</td>\n",
       "      <td>13.0</td>\n",
       "      <td>0.965215</td>\n",
       "      <td>2.0</td>\n",
       "      <td>False</td>\n",
       "      <td>0</td>\n",
       "    </tr>\n",
       "    <tr>\n",
       "      <th>3</th>\n",
       "      <td>5a110c7f0fe7a07167d2f62f</td>\n",
       "      <td>Taste &amp; See Creamery</td>\n",
       "      <td>1419 Market St, Redding, CA 96001</td>\n",
       "      <td>13046</td>\n",
       "      <td>Ice Cream Parlor</td>\n",
       "      <td>Dining and Drinking</td>\n",
       "      <td>579</td>\n",
       "      <td>8.0</td>\n",
       "      <td>9.0</td>\n",
       "      <td>11.0</td>\n",
       "      <td>1.0</td>\n",
       "      <td>0.974592</td>\n",
       "      <td>1.0</td>\n",
       "      <td>False</td>\n",
       "      <td>0</td>\n",
       "    </tr>\n",
       "    <tr>\n",
       "      <th>4</th>\n",
       "      <td>4bf3009298ac0f47ad6262a8</td>\n",
       "      <td>Damburger</td>\n",
       "      <td>1320 Placer St, Redding, CA 96001</td>\n",
       "      <td>13031</td>\n",
       "      <td>Burger Joint</td>\n",
       "      <td>Dining and Drinking</td>\n",
       "      <td>309</td>\n",
       "      <td>7.2</td>\n",
       "      <td>27.0</td>\n",
       "      <td>8.0</td>\n",
       "      <td>10.0</td>\n",
       "      <td>0.962266</td>\n",
       "      <td>1.0</td>\n",
       "      <td>True</td>\n",
       "      <td>0</td>\n",
       "    </tr>\n",
       "  </tbody>\n",
       "</table>\n",
       "</div>"
      ],
      "text/plain": [
       "                      fsqID                 venueName  \\\n",
       "0  4b5138a2f964a520cc4727e3  Market Street Steakhouse   \n",
       "1  581ccd7f0d63b178d22e9e54      Theory Collaborative   \n",
       "2  4b636603f964a520ff762ae3       Taqueria Los Gordos   \n",
       "3  5a110c7f0fe7a07167d2f62f      Taste & See Creamery   \n",
       "4  4bf3009298ac0f47ad6262a8                 Damburger   \n",
       "\n",
       "                           formattedAddress  catID             catName  \\\n",
       "0         1777 Market St, Redding, CA 96001  13383          Steakhouse   \n",
       "1     1250 California St, Redding, CA 96001  13034                Café   \n",
       "2  1400 Pine St (Tehama), Redding, CA 96001  13099  Chinese Restaurant   \n",
       "3         1419 Market St, Redding, CA 96001  13046    Ice Cream Parlor   \n",
       "4         1320 Placer St, Redding, CA 96001  13031        Burger Joint   \n",
       "\n",
       "            catIDGroup  distance  rating  totalRatings  totalPhotos  \\\n",
       "0  Dining and Drinking       188     8.7          14.0         12.0   \n",
       "1  Dining and Drinking       818     8.9          35.0         34.0   \n",
       "2  Dining and Drinking       621     8.1          28.0         15.0   \n",
       "3  Dining and Drinking       579     8.0           9.0         11.0   \n",
       "4  Dining and Drinking       309     7.2          27.0          8.0   \n",
       "\n",
       "   totalTips  popularity  price  storeVerified  stationIndex  \n",
       "0        6.0    0.966425    3.0          False             0  \n",
       "1        4.0    0.978524    1.0           True             0  \n",
       "2       13.0    0.965215    2.0          False             0  \n",
       "3        1.0    0.974592    1.0          False             0  \n",
       "4       10.0    0.962266    1.0           True             0  "
      ]
     },
     "execution_count": 33,
     "metadata": {},
     "output_type": "execute_result"
    }
   ],
   "source": [
    "FSVenuesDF.head()"
   ]
  },
  {
   "cell_type": "code",
   "execution_count": 57,
   "metadata": {},
   "outputs": [],
   "source": [
    "# FSVenuesDF.to_csv('../data/FoursquareVenuesDF.csv', sep=',',index=False)"
   ]
  },
  {
   "cell_type": "markdown",
   "metadata": {},
   "source": [
    "# [Yelp API](https://docs.developer.yelp.com/reference/v3_business_search)"
   ]
  },
  {
   "cell_type": "markdown",
   "metadata": {},
   "source": [
    "### Send a request to Yelp with a small radius (1000m) for all the bike stations in your city of choice. "
   ]
  },
  {
   "cell_type": "code",
   "execution_count": 5,
   "metadata": {},
   "outputs": [],
   "source": [
    "# Call Yelp API function\n",
    "def getVenuesYelp(latitude, longitude, radius, YelpKey, categories, limit):\n",
    "    \"\"\"\n",
    "    Get venues from yelp with a specified place type and coordinates.\n",
    "    Args:\n",
    "        latitude (float): latitude for query (must be combined with longitude)\n",
    "        longitude (float): longitude for query (must be combined with latitude)\n",
    "        api_key (str): foursquare API to use for query\n",
    "        categories (str) : string of category types. Seperate multiple types with commas\n",
    "        limit (int): Number of results to return, max 50\n",
    "\n",
    "    Returns:\n",
    "        response: response object from the requests library.\n",
    "    \"\"\"\n",
    "    headers = {\n",
    "        \"accept\": \"application/json\",\n",
    "        \"Authorization\": rf'Bearer {YelpKey}'\n",
    "    }\n",
    "\n",
    "    url = fr\"https://api.yelp.com/v3/businesses/search?latitude={latitude}&longitude={longitude}&radius={radius}&categories={categories}&sort_by=distance&limit={limit}\"\n",
    "\n",
    "    results = requests.get(url, headers=headers)\n",
    "\n",
    "    return results"
   ]
  },
  {
   "cell_type": "markdown",
   "metadata": {},
   "source": [
    "[Yelp Categories List](https://docs.developer.yelp.com/docs/resources-categories) for dining and POIs, selected to match Foursquare Categories\n",
    "\n",
    "Event Categories\n",
    "* Music (music)\n",
    "* Visual Arts (visual-arts)\n",
    "* Performing Arts (performing-arts)\n",
    "* Film (film)\n",
    "* Food & Drink (food-and-drink)\n",
    "* Sports & Active Life (sports-active-life)\n",
    "* Nightlife (nightlife)\n",
    "\n",
    "Categories\n",
    "* Bars (bars)\n",
    "* Restauruants (restaurants)\n",
    "* Landmarks (landmarks)\n"
   ]
  },
  {
   "cell_type": "code",
   "execution_count": 3,
   "metadata": {},
   "outputs": [],
   "source": [
    "# Setting Constant Variables \n",
    "YelpKey = os.getenv('YelpAPIKey2')\n",
    "radius = 1000\n",
    "limit = 50"
   ]
  },
  {
   "cell_type": "markdown",
   "metadata": {},
   "source": [
    "The categories in the results from calling the Yelp API does not return the highest level of category Grouping. <br>\n",
    "This was a problem as it would prevent us from differentiating the different categories easily once the dataframe was create and all the venues were compiled. <br>\n",
    "To work around this, the API was called for each category seperately so that each call could be saved with the category. <br>\n",
    "This also helped work around the call limit, as were were exceeding the 50 per call limit with all the categories at once. "
   ]
  },
  {
   "cell_type": "code",
   "execution_count": 38,
   "metadata": {},
   "outputs": [],
   "source": [
    "# Pulling all info for each bike station into a list\n",
    "YelpVenues = []\n",
    "\n",
    "# Commented out music and arts to reduce api call usage\n",
    "categories = ['restaurants','bars','landmarks'] #,'food-and-drink','music','visual-arts','performing-arts','film']\n",
    "\n",
    "for category in categories:\n",
    "    for i in range(len(ReddingBikes)):\n",
    "        venues = getVenuesYelp(ReddingBikes['latitude'][i], ReddingBikes['longitude'][i], radius, YelpKey, category, limit).json()\n",
    "        venues['category'] = category\n",
    "        venues['stationIndex'] = i\n",
    "        YelpVenues.append(venues)  \n"
   ]
  },
  {
   "cell_type": "markdown",
   "metadata": {},
   "source": [
    "### Parse through the response to get the POI (such as restaurants, bars, etc) details you want (ratings, name, location, etc)"
   ]
  },
  {
   "cell_type": "code",
   "execution_count": 39,
   "metadata": {},
   "outputs": [],
   "source": [
    "# Function to return list of desired results from each yelp venue\n",
    "def ParseYelpResults(venue): \n",
    "    \"\"\" \n",
    "    Parses elements from a venue in the list of results given by a Yelp Query.\n",
    "\n",
    "    Args: \n",
    "        venue (dict): A venue from the list of Foursquare Venues for each station\n",
    "\n",
    "    Returns a list of preset elements in the following order from the venue.  \n",
    "    List order: ['YelpID','venueName','displayAddress','categoryTitle','distance','rating','reviewCount','price']\n",
    "    \"\"\"\n",
    "    # Yelp core data. All venues have this information \n",
    "    yelpID = venue['id']\n",
    "    venueName = venue['name']\n",
    "    displayAddress = venue['location']['display_address']\n",
    "    distance = venue['distance']\n",
    "    rating = venue['rating']\n",
    "    reviewCount = venue['review_count']\n",
    "    \n",
    "    \n",
    "    # FS Rich data. Fields which may not exist\n",
    "    try: \n",
    "        price = len(venue['price'])\n",
    "    except:\n",
    "        price = None\n",
    "\n",
    "    returnList = [yelpID, venueName, displayAddress, distance, rating, reviewCount, price]\n",
    "\n",
    "    return returnList"
   ]
  },
  {
   "cell_type": "code",
   "execution_count": 40,
   "metadata": {},
   "outputs": [],
   "source": [
    "# Parsing all results into a list using function for tidy data that can be converted to DF\n",
    "YelpVenueList = []\n",
    "\n",
    "for i in range(len(YelpVenues)):\n",
    "    for venue in YelpVenues[i]['businesses']:\n",
    "        returnList = ParseYelpResults(venue)\n",
    "        returnList.extend([YelpVenues[i]['stationIndex'], YelpVenues[i]['category'], YelpVenues[i]['total']])\n",
    "        YelpVenueList.append(returnList)"
   ]
  },
  {
   "cell_type": "markdown",
   "metadata": {},
   "source": [
    "### Put your parsed results into a DataFrame"
   ]
  },
  {
   "cell_type": "code",
   "execution_count": 41,
   "metadata": {},
   "outputs": [],
   "source": [
    "yelpColumnsHeader = ['YelpID','venueName', 'displayAddress','distance','rating','reviewCount','price','stationIndex','category','totalVenues']\n",
    "\n",
    "yelpVenuesDF = pd.DataFrame(YelpVenueList)\n",
    "yelpVenuesDF.columns=yelpColumnsHeader"
   ]
  },
  {
   "cell_type": "code",
   "execution_count": 58,
   "metadata": {},
   "outputs": [
    {
     "name": "stdout",
     "output_type": "stream",
     "text": [
      "10448.381839549704\n"
     ]
    },
    {
     "data": {
      "text/html": [
       "<div>\n",
       "<style scoped>\n",
       "    .dataframe tbody tr th:only-of-type {\n",
       "        vertical-align: middle;\n",
       "    }\n",
       "\n",
       "    .dataframe tbody tr th {\n",
       "        vertical-align: top;\n",
       "    }\n",
       "\n",
       "    .dataframe thead th {\n",
       "        text-align: right;\n",
       "    }\n",
       "</style>\n",
       "<table border=\"1\" class=\"dataframe\">\n",
       "  <thead>\n",
       "    <tr style=\"text-align: right;\">\n",
       "      <th></th>\n",
       "      <th>YelpID</th>\n",
       "      <th>venueName</th>\n",
       "      <th>displayAddress</th>\n",
       "      <th>distance</th>\n",
       "      <th>rating</th>\n",
       "      <th>reviewCount</th>\n",
       "      <th>price</th>\n",
       "      <th>stationIndex</th>\n",
       "      <th>category</th>\n",
       "      <th>totalVenues</th>\n",
       "    </tr>\n",
       "  </thead>\n",
       "  <tbody>\n",
       "    <tr>\n",
       "      <th>159</th>\n",
       "      <td>yYzMYOfqL6HuBKZsARHUuQ</td>\n",
       "      <td>Puerto Vallarta</td>\n",
       "      <td>[2315 Eureka Way, Redding, CA 96001]</td>\n",
       "      <td>1027.538118</td>\n",
       "      <td>3.4</td>\n",
       "      <td>96</td>\n",
       "      <td>2.0</td>\n",
       "      <td>3</td>\n",
       "      <td>restaurants</td>\n",
       "      <td>23</td>\n",
       "    </tr>\n",
       "    <tr>\n",
       "      <th>160</th>\n",
       "      <td>lyBBbZ-mZpBaezcRol_MtQ</td>\n",
       "      <td>Weinerschnitzel</td>\n",
       "      <td>[1120 N Market St, Redding, CA 96001]</td>\n",
       "      <td>1049.907534</td>\n",
       "      <td>2.0</td>\n",
       "      <td>2</td>\n",
       "      <td>NaN</td>\n",
       "      <td>3</td>\n",
       "      <td>restaurants</td>\n",
       "      <td>23</td>\n",
       "    </tr>\n",
       "    <tr>\n",
       "      <th>161</th>\n",
       "      <td>TfwA7rp7PQw-FEaYg0hMUA</td>\n",
       "      <td>Wienerschnitzel</td>\n",
       "      <td>[1120 North Market St, Redding, CA 96001]</td>\n",
       "      <td>1050.498334</td>\n",
       "      <td>3.1</td>\n",
       "      <td>44</td>\n",
       "      <td>1.0</td>\n",
       "      <td>3</td>\n",
       "      <td>restaurants</td>\n",
       "      <td>23</td>\n",
       "    </tr>\n",
       "    <tr>\n",
       "      <th>162</th>\n",
       "      <td>LvtdDxlAYXzD7bXkmk8NHA</td>\n",
       "      <td>Downtown Grounds</td>\n",
       "      <td>[1400 Eureka Way, Redding, CA 96001]</td>\n",
       "      <td>1095.783455</td>\n",
       "      <td>4.6</td>\n",
       "      <td>12</td>\n",
       "      <td>NaN</td>\n",
       "      <td>3</td>\n",
       "      <td>restaurants</td>\n",
       "      <td>23</td>\n",
       "    </tr>\n",
       "    <tr>\n",
       "      <th>163</th>\n",
       "      <td>EKUilYPLNDyTGoG_TjXaww</td>\n",
       "      <td>Phat Straw</td>\n",
       "      <td>[2475 Eureka Way, Redding, CA 96001]</td>\n",
       "      <td>1114.657591</td>\n",
       "      <td>4.5</td>\n",
       "      <td>26</td>\n",
       "      <td>NaN</td>\n",
       "      <td>3</td>\n",
       "      <td>restaurants</td>\n",
       "      <td>23</td>\n",
       "    </tr>\n",
       "    <tr>\n",
       "      <th>...</th>\n",
       "      <td>...</td>\n",
       "      <td>...</td>\n",
       "      <td>...</td>\n",
       "      <td>...</td>\n",
       "      <td>...</td>\n",
       "      <td>...</td>\n",
       "      <td>...</td>\n",
       "      <td>...</td>\n",
       "      <td>...</td>\n",
       "      <td>...</td>\n",
       "    </tr>\n",
       "    <tr>\n",
       "      <th>1265</th>\n",
       "      <td>x73jVen8F8M14RnINApdKQ</td>\n",
       "      <td>Sundial Bridge</td>\n",
       "      <td>[840 Sundial Bridge Dr, At Turtle Bay Explorat...</td>\n",
       "      <td>1046.035103</td>\n",
       "      <td>4.6</td>\n",
       "      <td>352</td>\n",
       "      <td>NaN</td>\n",
       "      <td>7</td>\n",
       "      <td>landmarks</td>\n",
       "      <td>2</td>\n",
       "    </tr>\n",
       "    <tr>\n",
       "      <th>1266</th>\n",
       "      <td>6t2XgTxEqvake28gt0IlSg</td>\n",
       "      <td>The Monolith</td>\n",
       "      <td>[Sundial Bridge Dr, Redding, CA 96001]</td>\n",
       "      <td>1038.956037</td>\n",
       "      <td>5.0</td>\n",
       "      <td>1</td>\n",
       "      <td>NaN</td>\n",
       "      <td>10</td>\n",
       "      <td>landmarks</td>\n",
       "      <td>2</td>\n",
       "    </tr>\n",
       "    <tr>\n",
       "      <th>1267</th>\n",
       "      <td>x73jVen8F8M14RnINApdKQ</td>\n",
       "      <td>Sundial Bridge</td>\n",
       "      <td>[840 Sundial Bridge Dr, At Turtle Bay Explorat...</td>\n",
       "      <td>1261.539347</td>\n",
       "      <td>4.6</td>\n",
       "      <td>352</td>\n",
       "      <td>NaN</td>\n",
       "      <td>10</td>\n",
       "      <td>landmarks</td>\n",
       "      <td>2</td>\n",
       "    </tr>\n",
       "    <tr>\n",
       "      <th>1271</th>\n",
       "      <td>6t2XgTxEqvake28gt0IlSg</td>\n",
       "      <td>The Monolith</td>\n",
       "      <td>[Sundial Bridge Dr, Redding, CA 96001]</td>\n",
       "      <td>1048.994968</td>\n",
       "      <td>5.0</td>\n",
       "      <td>1</td>\n",
       "      <td>NaN</td>\n",
       "      <td>14</td>\n",
       "      <td>landmarks</td>\n",
       "      <td>1</td>\n",
       "    </tr>\n",
       "    <tr>\n",
       "      <th>1272</th>\n",
       "      <td>6t2XgTxEqvake28gt0IlSg</td>\n",
       "      <td>The Monolith</td>\n",
       "      <td>[Sundial Bridge Dr, Redding, CA 96001]</td>\n",
       "      <td>1146.282803</td>\n",
       "      <td>5.0</td>\n",
       "      <td>1</td>\n",
       "      <td>NaN</td>\n",
       "      <td>20</td>\n",
       "      <td>landmarks</td>\n",
       "      <td>1</td>\n",
       "    </tr>\n",
       "  </tbody>\n",
       "</table>\n",
       "<p>115 rows × 10 columns</p>\n",
       "</div>"
      ],
      "text/plain": [
       "                      YelpID          venueName  \\\n",
       "159   yYzMYOfqL6HuBKZsARHUuQ    Puerto Vallarta   \n",
       "160   lyBBbZ-mZpBaezcRol_MtQ    Weinerschnitzel   \n",
       "161   TfwA7rp7PQw-FEaYg0hMUA    Wienerschnitzel   \n",
       "162   LvtdDxlAYXzD7bXkmk8NHA  Downtown Grounds    \n",
       "163   EKUilYPLNDyTGoG_TjXaww         Phat Straw   \n",
       "...                      ...                ...   \n",
       "1265  x73jVen8F8M14RnINApdKQ     Sundial Bridge   \n",
       "1266  6t2XgTxEqvake28gt0IlSg       The Monolith   \n",
       "1267  x73jVen8F8M14RnINApdKQ     Sundial Bridge   \n",
       "1271  6t2XgTxEqvake28gt0IlSg       The Monolith   \n",
       "1272  6t2XgTxEqvake28gt0IlSg       The Monolith   \n",
       "\n",
       "                                         displayAddress     distance  rating  \\\n",
       "159                [2315 Eureka Way, Redding, CA 96001]  1027.538118     3.4   \n",
       "160               [1120 N Market St, Redding, CA 96001]  1049.907534     2.0   \n",
       "161           [1120 North Market St, Redding, CA 96001]  1050.498334     3.1   \n",
       "162                [1400 Eureka Way, Redding, CA 96001]  1095.783455     4.6   \n",
       "163                [2475 Eureka Way, Redding, CA 96001]  1114.657591     4.5   \n",
       "...                                                 ...          ...     ...   \n",
       "1265  [840 Sundial Bridge Dr, At Turtle Bay Explorat...  1046.035103     4.6   \n",
       "1266             [Sundial Bridge Dr, Redding, CA 96001]  1038.956037     5.0   \n",
       "1267  [840 Sundial Bridge Dr, At Turtle Bay Explorat...  1261.539347     4.6   \n",
       "1271             [Sundial Bridge Dr, Redding, CA 96001]  1048.994968     5.0   \n",
       "1272             [Sundial Bridge Dr, Redding, CA 96001]  1146.282803     5.0   \n",
       "\n",
       "      reviewCount  price  stationIndex     category  totalVenues  \n",
       "159            96    2.0             3  restaurants           23  \n",
       "160             2    NaN             3  restaurants           23  \n",
       "161            44    1.0             3  restaurants           23  \n",
       "162            12    NaN             3  restaurants           23  \n",
       "163            26    NaN             3  restaurants           23  \n",
       "...           ...    ...           ...          ...          ...  \n",
       "1265          352    NaN             7    landmarks            2  \n",
       "1266            1    NaN            10    landmarks            2  \n",
       "1267          352    NaN            10    landmarks            2  \n",
       "1271            1    NaN            14    landmarks            1  \n",
       "1272            1    NaN            20    landmarks            1  \n",
       "\n",
       "[115 rows x 10 columns]"
      ]
     },
     "execution_count": 58,
     "metadata": {},
     "output_type": "execute_result"
    }
   ],
   "source": [
    "# Why does station 3 have an average distance of 2034 when the radius was set to 1000? \n",
    "# Rerunning the API for station 3 returns information with the same issues.\n",
    "print(yelpVenuesDF['distance'].max())\n",
    "yelpVenuesDF[yelpVenuesDF['distance'] > 1000]\n",
    "\n"
   ]
  },
  {
   "cell_type": "code",
   "execution_count": 61,
   "metadata": {},
   "outputs": [],
   "source": [
    "# Dropping rows out side of radius\n",
    "outsideIndex = yelpVenuesDF[yelpVenuesDF['distance'] > 1000].index\n",
    "yelpVenuesDF.drop(labels=outsideIndex, inplace=True)"
   ]
  },
  {
   "cell_type": "code",
   "execution_count": 62,
   "metadata": {},
   "outputs": [],
   "source": [
    "yelpVenuesDF.to_csv('../data/yelpVenuesDF.csv', sep=',',index=False)"
   ]
  },
  {
   "cell_type": "markdown",
   "metadata": {},
   "source": [
    "# Comparing Results"
   ]
  },
  {
   "cell_type": "markdown",
   "metadata": {},
   "source": [
    "### Which API provided you with more complete data? Provide an explanation. "
   ]
  },
  {
   "cell_type": "markdown",
   "metadata": {},
   "source": [
    "Yelp provided much more locations/venues given a very similar categories to search for (Due to API limitating 50 calls per location and limitations of category returned, each category was queried individually for each location. The distance from station was used to prioritize which once were called first). "
   ]
  },
  {
   "cell_type": "code",
   "execution_count": 65,
   "metadata": {},
   "outputs": [
    {
     "name": "stdout",
     "output_type": "stream",
     "text": [
      "Total number of Foursqaure locations/venues found: 655\n",
      "Total number of Yelp locations/venues found: 1416\n"
     ]
    }
   ],
   "source": [
    "print(f'Total number of Foursqaure locations/venues found: {len(FSVenuesDF)}')\n",
    "\n",
    "# Loop to find total locations/venues found required for Yelp as not all of them returned from API and inserted to dataframe. \n",
    "totalYelpLocations = 0\n",
    "\n",
    "for Venues in YelpVenues:\n",
    "    totalYelpLocations += Venues['total']\n",
    "\n",
    "print(f'Total number of Yelp locations/venues found: {totalYelpLocations}')\n"
   ]
  },
  {
   "cell_type": "markdown",
   "metadata": {},
   "source": [
    "Yelp also has much more average reviews per location than foursquare. "
   ]
  },
  {
   "cell_type": "code",
   "execution_count": 66,
   "metadata": {},
   "outputs": [
    {
     "name": "stdout",
     "output_type": "stream",
     "text": [
      "Foursqaure average of number of reviews: 15.853556485355648\n",
      "Yelp average of number of reviews: 149.69913793103447\n"
     ]
    }
   ],
   "source": [
    "print(f\"Foursqaure average of number of reviews: {FSVenuesDF['totalRatings'].mean()}\")\n",
    "print(f\"Yelp average of number of reviews: {yelpVenuesDF['reviewCount'].mean()}\")"
   ]
  },
  {
   "cell_type": "markdown",
   "metadata": {},
   "source": [
    "Surprisingly, Foursquare had more unique locations than Yelp did, despite the significant difference in quantity of venues returned. This will be investigated further later."
   ]
  },
  {
   "cell_type": "code",
   "execution_count": 67,
   "metadata": {},
   "outputs": [
    {
     "name": "stdout",
     "output_type": "stream",
     "text": [
      "Foursqaure Unique Locations: 86\n",
      "Yelp Unique Locations: 84\n"
     ]
    }
   ],
   "source": [
    "print(f\"Foursqaure Unique Locations: {FSVenuesDF['venueName'].nunique()}\")\n",
    "print(f\"Yelp Unique Locations: {yelpVenuesDF['venueName'].nunique()}\")"
   ]
  },
  {
   "cell_type": "markdown",
   "metadata": {},
   "source": [
    "### Get the top 10 restaurants according to their rating"
   ]
  },
  {
   "cell_type": "markdown",
   "metadata": {},
   "source": [
    "The top 10 restaurants from Yelp and from Foursquare are quite different. A minimum review count was applied to the Yelp reviews as there were multiple 5 star reviews from only a couple of reviews which skewed the results"
   ]
  },
  {
   "cell_type": "code",
   "execution_count": 68,
   "metadata": {},
   "outputs": [
    {
     "name": "stdout",
     "output_type": "stream",
     "text": [
      "Top 10 Restaurants from Foursquare:\n"
     ]
    },
    {
     "data": {
      "text/html": [
       "<div>\n",
       "<style scoped>\n",
       "    .dataframe tbody tr th:only-of-type {\n",
       "        vertical-align: middle;\n",
       "    }\n",
       "\n",
       "    .dataframe tbody tr th {\n",
       "        vertical-align: top;\n",
       "    }\n",
       "\n",
       "    .dataframe thead th {\n",
       "        text-align: right;\n",
       "    }\n",
       "</style>\n",
       "<table border=\"1\" class=\"dataframe\">\n",
       "  <thead>\n",
       "    <tr style=\"text-align: right;\">\n",
       "      <th></th>\n",
       "      <th>rating</th>\n",
       "      <th>totalRatings</th>\n",
       "    </tr>\n",
       "    <tr>\n",
       "      <th>venueName</th>\n",
       "      <th></th>\n",
       "      <th></th>\n",
       "    </tr>\n",
       "  </thead>\n",
       "  <tbody>\n",
       "    <tr>\n",
       "      <th>Theory Collaborative</th>\n",
       "      <td>8.9</td>\n",
       "      <td>35.0</td>\n",
       "    </tr>\n",
       "    <tr>\n",
       "      <th>Market Street Steakhouse</th>\n",
       "      <td>8.7</td>\n",
       "      <td>14.0</td>\n",
       "    </tr>\n",
       "    <tr>\n",
       "      <th>Club 501</th>\n",
       "      <td>8.3</td>\n",
       "      <td>12.0</td>\n",
       "    </tr>\n",
       "    <tr>\n",
       "      <th>Taqueria Los Gordos</th>\n",
       "      <td>8.1</td>\n",
       "      <td>28.0</td>\n",
       "    </tr>\n",
       "    <tr>\n",
       "      <th>Dutch Bros Coffee</th>\n",
       "      <td>8.1</td>\n",
       "      <td>33.0</td>\n",
       "    </tr>\n",
       "    <tr>\n",
       "      <th>Taste &amp; See Creamery</th>\n",
       "      <td>8.0</td>\n",
       "      <td>9.0</td>\n",
       "    </tr>\n",
       "    <tr>\n",
       "      <th>Dutch Bros Coffee</th>\n",
       "      <td>7.8</td>\n",
       "      <td>9.0</td>\n",
       "    </tr>\n",
       "    <tr>\n",
       "      <th>San Francisco Deli</th>\n",
       "      <td>7.8</td>\n",
       "      <td>11.0</td>\n",
       "    </tr>\n",
       "    <tr>\n",
       "      <th>Deja Vu Restaurant</th>\n",
       "      <td>7.8</td>\n",
       "      <td>54.0</td>\n",
       "    </tr>\n",
       "    <tr>\n",
       "      <th>Wienerschnitzel</th>\n",
       "      <td>7.6</td>\n",
       "      <td>12.0</td>\n",
       "    </tr>\n",
       "  </tbody>\n",
       "</table>\n",
       "</div>"
      ],
      "text/plain": [
       "                          rating  totalRatings\n",
       "venueName                                     \n",
       "Theory Collaborative         8.9          35.0\n",
       "Market Street Steakhouse     8.7          14.0\n",
       "Club 501                     8.3          12.0\n",
       "Taqueria Los Gordos          8.1          28.0\n",
       "Dutch Bros Coffee            8.1          33.0\n",
       "Taste & See Creamery         8.0           9.0\n",
       "Dutch Bros Coffee            7.8           9.0\n",
       "San Francisco Deli           7.8          11.0\n",
       "Deja Vu Restaurant           7.8          54.0\n",
       "Wienerschnitzel              7.6          12.0"
      ]
     },
     "execution_count": 68,
     "metadata": {},
     "output_type": "execute_result"
    }
   ],
   "source": [
    "print('Top 10 Restaurants from Foursquare:')\n",
    "FSRestaurantsDF = FSVenuesDF[FSVenuesDF['catIDGroup']=='Dining and Drinking']\n",
    "FSRestaurantsDF[['venueName','rating','totalRatings']].set_index('venueName').drop_duplicates().sort_values('rating',ascending=False).head(10)\n"
   ]
  },
  {
   "cell_type": "code",
   "execution_count": 69,
   "metadata": {},
   "outputs": [
    {
     "name": "stdout",
     "output_type": "stream",
     "text": [
      "Top 10 Restaurants from Yelp:\n"
     ]
    },
    {
     "data": {
      "text/html": [
       "<div>\n",
       "<style scoped>\n",
       "    .dataframe tbody tr th:only-of-type {\n",
       "        vertical-align: middle;\n",
       "    }\n",
       "\n",
       "    .dataframe tbody tr th {\n",
       "        vertical-align: top;\n",
       "    }\n",
       "\n",
       "    .dataframe thead th {\n",
       "        text-align: right;\n",
       "    }\n",
       "</style>\n",
       "<table border=\"1\" class=\"dataframe\">\n",
       "  <thead>\n",
       "    <tr style=\"text-align: right;\">\n",
       "      <th></th>\n",
       "      <th>rating</th>\n",
       "      <th>reviewCount</th>\n",
       "    </tr>\n",
       "    <tr>\n",
       "      <th>venueName</th>\n",
       "      <th></th>\n",
       "      <th></th>\n",
       "    </tr>\n",
       "  </thead>\n",
       "  <tbody>\n",
       "    <tr>\n",
       "      <th>Westside Tap &amp; Cork</th>\n",
       "      <td>4.9</td>\n",
       "      <td>17</td>\n",
       "    </tr>\n",
       "    <tr>\n",
       "      <th>Odell Craft Barbecue</th>\n",
       "      <td>4.9</td>\n",
       "      <td>26</td>\n",
       "    </tr>\n",
       "    <tr>\n",
       "      <th>Canelo’s</th>\n",
       "      <td>4.8</td>\n",
       "      <td>79</td>\n",
       "    </tr>\n",
       "    <tr>\n",
       "      <th>The Grape Escape</th>\n",
       "      <td>4.7</td>\n",
       "      <td>20</td>\n",
       "    </tr>\n",
       "    <tr>\n",
       "      <th>The Crepe Escape Redding</th>\n",
       "      <td>4.7</td>\n",
       "      <td>69</td>\n",
       "    </tr>\n",
       "    <tr>\n",
       "      <th>Sundial Bridge</th>\n",
       "      <td>4.6</td>\n",
       "      <td>352</td>\n",
       "    </tr>\n",
       "    <tr>\n",
       "      <th>Sandwichery</th>\n",
       "      <td>4.6</td>\n",
       "      <td>130</td>\n",
       "    </tr>\n",
       "    <tr>\n",
       "      <th>Trendy's</th>\n",
       "      <td>4.6</td>\n",
       "      <td>829</td>\n",
       "    </tr>\n",
       "    <tr>\n",
       "      <th>Downtown Grounds</th>\n",
       "      <td>4.6</td>\n",
       "      <td>12</td>\n",
       "    </tr>\n",
       "    <tr>\n",
       "      <th>Lucky Miller's Deli &amp; Market</th>\n",
       "      <td>4.6</td>\n",
       "      <td>154</td>\n",
       "    </tr>\n",
       "  </tbody>\n",
       "</table>\n",
       "</div>"
      ],
      "text/plain": [
       "                              rating  reviewCount\n",
       "venueName                                        \n",
       "Westside Tap & Cork              4.9           17\n",
       "Odell Craft Barbecue             4.9           26\n",
       "Canelo’s                         4.8           79\n",
       "The Grape Escape                 4.7           20\n",
       "The Crepe Escape Redding         4.7           69\n",
       "Sundial Bridge                   4.6          352\n",
       "Sandwichery                      4.6          130\n",
       "Trendy's                         4.6          829\n",
       "Downtown Grounds                 4.6           12\n",
       "Lucky Miller's Deli & Market     4.6          154"
      ]
     },
     "execution_count": 69,
     "metadata": {},
     "output_type": "execute_result"
    }
   ],
   "source": [
    "print('Top 10 Restaurants from Yelp:')\n",
    "YelpRestaurants = yelpVenuesDF[(yelpVenuesDF['reviewCount'] > 10)]\n",
    "YelpRestaurants[['venueName','rating','reviewCount']].set_index('venueName').drop_duplicates().sort_values('rating',ascending=False).head(10)\n"
   ]
  }
 ],
 "metadata": {
  "kernelspec": {
   "display_name": "Python 3",
   "language": "python",
   "name": "python3"
  },
  "language_info": {
   "codemirror_mode": {
    "name": "ipython",
    "version": 3
   },
   "file_extension": ".py",
   "mimetype": "text/x-python",
   "name": "python",
   "nbconvert_exporter": "python",
   "pygments_lexer": "ipython3",
   "version": "3.9.19"
  }
 },
 "nbformat": 4,
 "nbformat_minor": 4
}
