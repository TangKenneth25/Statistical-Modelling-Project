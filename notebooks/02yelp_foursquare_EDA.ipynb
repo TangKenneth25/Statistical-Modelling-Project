{
 "cells": [
  {
   "cell_type": "code",
   "execution_count": 1,
   "metadata": {},
   "outputs": [],
   "source": [
    "# Importing Libraries\n",
    "import requests\n",
    "import json\n",
    "import pandas as pd\n",
    "import os"
   ]
  },
  {
   "cell_type": "code",
   "execution_count": 2,
   "metadata": {},
   "outputs": [],
   "source": [
    "# Loading CityBikes data from Part 1\n",
    "ReddingBikes = pd.read_csv('../data/ReddingBikesDF.csv')"
   ]
  },
  {
   "cell_type": "markdown",
   "metadata": {},
   "source": [
    "# [Foursquare](https://docs.foursquare.com/developer/reference/places-api-overview)"
   ]
  },
  {
   "cell_type": "markdown",
   "metadata": {},
   "source": [
    "### Send a request to Foursquare with a small radius (1000m) for all the bike stations in your city of choice. "
   ]
  },
  {
   "cell_type": "code",
   "execution_count": 3,
   "metadata": {},
   "outputs": [],
   "source": [
    "# Call Foursqaure API function\n",
    "def getVenuesFS(latitude, longitude, radius, api_key, categories, fields, limit):\n",
    "    \"\"\"\n",
    "    Get venues from foursquare with a specified place type and coordinates.\n",
    "    Args:\n",
    "        latitude (float): latitude for query (must be combined with longitude)\n",
    "        longitude (float): longitude for query (must be combined with latitude)\n",
    "        api_key (str): foursquare API to use for query\n",
    "        categories (str) : Foursquare category codes. Separate multiple ids with commas\n",
    "        fields (str): Foursquare fields. Seperate multiple fields with commas.\n",
    "        limit (int): Number of results to return, max 50\n",
    "\n",
    "    Returns:\n",
    "        response: response object from the requests library.\n",
    "    \"\"\"\n",
    "    headers = {\n",
    "        \"accept\": \"application/json\",\n",
    "        \"Authorization\": api_key\n",
    "    }\n",
    "\n",
    "    ll=str(latitude) + ',' + str(longitude)\n",
    "\n",
    "    url = f'https://api.foursquare.com/v3/places/search?ll={ll}&radius={radius}&categories={categories}&limit={str(limit)}&fields={fields}'\n",
    "\n",
    "    results = requests.get(url, headers=headers)\n",
    "\n",
    "    return results"
   ]
  },
  {
   "cell_type": "markdown",
   "metadata": {},
   "source": [
    "Foursquare [category codes](https://docs.foursquare.com/data-products/docs/categories) for Dining & Drinking and POIs\n",
    "* 10000\tArts and Entertainment\n",
    "* 13000   Dining & Drinking\n",
    "* 16000\tLandmarks and Outdoors\n",
    "* 18000\tSports and Recreation\n"
   ]
  },
  {
   "cell_type": "code",
   "execution_count": 4,
   "metadata": {},
   "outputs": [],
   "source": [
    "# Setting Constant Variables \n",
    "FOURSQUARE_KEY = os.getenv('Foursquare_API_KEY')\n",
    "radius = 1000\n",
    "categories = '10000,13000,16000,18000'\n",
    "fields = 'fsq_id,name,location,categories,distance,verified,rating,stats,popularity,price'\n",
    "limit = 50"
   ]
  },
  {
   "cell_type": "code",
   "execution_count": 5,
   "metadata": {},
   "outputs": [],
   "source": [
    "# Pulling all info for each bike station into a list\n",
    "FoursquareVenues = [] \n",
    "\n",
    "for i in range(len(ReddingBikes)):\n",
    "    venues = getVenuesFS(ReddingBikes['latitude'][i], ReddingBikes['longitude'][i], radius, FOURSQUARE_KEY, categories, fields, limit).json()\n",
    "    FoursquareVenues.append(venues)    \n"
   ]
  },
  {
   "cell_type": "code",
   "execution_count": 6,
   "metadata": {},
   "outputs": [],
   "source": [
    "# Function to return category group using category id code\n",
    "def CategoryGroup(categoryID):\n",
    "    \"\"\"\n",
    "    Returns Foursquare Category Group from CategoryID \n",
    "\n",
    "    Args:\n",
    "        categoryID (str): String of category id code from foursqaure\n",
    "\n",
    "    Returns:\n",
    "        Category Group from foursquare codes\n",
    "    \"\"\"\n",
    "    if categoryID.startswith('10'): \n",
    "        return 'Arts and Entertainment'\n",
    "    elif categoryID.startswith('11'): \n",
    "        return 'Business and Professional Services'\n",
    "    elif categoryID.startswith('12'): \n",
    "        return 'Community and Government'\n",
    "    elif categoryID.startswith('13'): \n",
    "        return 'Dining and Drinking'\n",
    "    elif categoryID.startswith('14'): \n",
    "        return 'Event'\n",
    "    elif categoryID.startswith('15'): \n",
    "        return 'Health and Medicine'\n",
    "    elif categoryID.startswith('16'):\n",
    "        return 'Landmarks and Outdoors'\n",
    "    elif categoryID.startswith('17'): \n",
    "        return 'Retail'\n",
    "    elif categoryID.startswith('18'): \n",
    "        return 'Sports and Recreation'\n",
    "    elif categoryID.startswith('19'): \n",
    "        return 'Travel and Transportation'\n",
    "\n"
   ]
  },
  {
   "cell_type": "markdown",
   "metadata": {},
   "source": [
    "### Parse through the response to get the POI (such as restaurants, bars, etc) details you want (ratings, name, location, etc)"
   ]
  },
  {
   "cell_type": "code",
   "execution_count": 7,
   "metadata": {},
   "outputs": [],
   "source": [
    "# Function to return list of desired results from each Foursquare venue\n",
    "def ParseFoursqaureResults(venue): \n",
    "    \"\"\" \n",
    "    Parses elements from a venue in the list of results given by a Foursquare Query.\n",
    "\n",
    "    Args: \n",
    "        venue (dict): A venue from the list of Foursquare Venues for each station\n",
    "\n",
    "    Returns a list of preset elements in the following order from the venue.  \n",
    "    List order: ['fsqID', 'venueName', 'formattedAddress', 'catID', 'catName', 'catIDGroup', 'distance', 'rating', 'totalRatings', 'totalPhotos', 'totalTips', 'popularity', 'price', 'storeVerified']\n",
    "    \"\"\"\n",
    "    # FS core data. All venues have this information \n",
    "    fsqID = venue['fsq_id']\n",
    "    venueName = venue['name']\n",
    "    formattedAddress = venue['location']['formatted_address']\n",
    "    catID = venue['categories'][0]['id']\n",
    "    catName = venue['categories'][0]['name']\n",
    "    catIDGroup = CategoryGroup(str(catID))\n",
    "    distance = venue['distance']\n",
    "    \n",
    "    # FS Rich data. Fields which may not exist\n",
    "    try:\n",
    "        rating = venue['rating']\n",
    "    except: \n",
    "        rating = None\n",
    "\n",
    "    try:\n",
    "        totalRatings = venue['stats']['total_ratings']\n",
    "        totalPhotos = venue['stats']['total_photos']\n",
    "        totalTips = venue['stats']['total_tips']\n",
    "    except: \n",
    "        totalRatings = None\n",
    "        totalPhotos = None\n",
    "        totalTips = None\n",
    "\n",
    "    try:\n",
    "        popularity = venue['popularity']\n",
    "    except: \n",
    "        popularity = None\n",
    "\n",
    "    try:\n",
    "        price = venue['price']\n",
    "    except: \n",
    "        price = None\n",
    "\n",
    "    try:\n",
    "        storeVerified = venue['verified']    \n",
    "    except: \n",
    "        storeVerified = None\n",
    "\n",
    "    returnList = [fsqID, venueName, formattedAddress, catID, catName, catIDGroup, distance, rating, totalRatings, totalPhotos, totalTips, popularity, price, storeVerified]\n",
    "\n",
    "    return returnList"
   ]
  },
  {
   "cell_type": "code",
   "execution_count": 8,
   "metadata": {},
   "outputs": [],
   "source": [
    "# Parsing all results into a list using function for tidy data that can be converted to DF\n",
    "fsVenuesList = []\n",
    "\n",
    "for i in range(len(FoursquareVenues)):\n",
    "    for venues in FoursquareVenues[i]['results']:\n",
    "        returnList = ParseFoursqaureResults(venues)\n",
    "        returnList.append(i)\n",
    "        fsVenuesList.append(returnList)"
   ]
  },
  {
   "cell_type": "markdown",
   "metadata": {},
   "source": [
    "### Put your parsed results into a DataFrame"
   ]
  },
  {
   "cell_type": "code",
   "execution_count": 9,
   "metadata": {},
   "outputs": [],
   "source": [
    "fsColumnsHeader = ['fsqID', 'venueName', 'formattedAddress', 'catID', 'catName', 'catIDGroup', 'distance', 'rating', 'totalRatings', 'totalPhotos', 'totalTips', 'popularity', 'price', 'storeVerified','stationIndex']\n",
    "\n",
    "FSVenuesDF = pd.DataFrame(fsVenuesList)\n",
    "FSVenuesDF.columns=fsColumnsHeader"
   ]
  },
  {
   "cell_type": "code",
   "execution_count": 10,
   "metadata": {},
   "outputs": [
    {
     "data": {
      "text/html": [
       "<div>\n",
       "<style scoped>\n",
       "    .dataframe tbody tr th:only-of-type {\n",
       "        vertical-align: middle;\n",
       "    }\n",
       "\n",
       "    .dataframe tbody tr th {\n",
       "        vertical-align: top;\n",
       "    }\n",
       "\n",
       "    .dataframe thead th {\n",
       "        text-align: right;\n",
       "    }\n",
       "</style>\n",
       "<table border=\"1\" class=\"dataframe\">\n",
       "  <thead>\n",
       "    <tr style=\"text-align: right;\">\n",
       "      <th></th>\n",
       "      <th>fsqID</th>\n",
       "      <th>venueName</th>\n",
       "      <th>formattedAddress</th>\n",
       "      <th>catID</th>\n",
       "      <th>catName</th>\n",
       "      <th>catIDGroup</th>\n",
       "      <th>distance</th>\n",
       "      <th>rating</th>\n",
       "      <th>totalRatings</th>\n",
       "      <th>totalPhotos</th>\n",
       "      <th>totalTips</th>\n",
       "      <th>popularity</th>\n",
       "      <th>price</th>\n",
       "      <th>storeVerified</th>\n",
       "      <th>stationIndex</th>\n",
       "    </tr>\n",
       "  </thead>\n",
       "  <tbody>\n",
       "    <tr>\n",
       "      <th>0</th>\n",
       "      <td>4b5138a2f964a520cc4727e3</td>\n",
       "      <td>Market Street Steakhouse</td>\n",
       "      <td>1777 Market St, Redding, CA 96001</td>\n",
       "      <td>13383</td>\n",
       "      <td>Steakhouse</td>\n",
       "      <td>Dining and Drinking</td>\n",
       "      <td>188</td>\n",
       "      <td>8.7</td>\n",
       "      <td>14.0</td>\n",
       "      <td>12.0</td>\n",
       "      <td>6.0</td>\n",
       "      <td>0.966268</td>\n",
       "      <td>3.0</td>\n",
       "      <td>False</td>\n",
       "      <td>0</td>\n",
       "    </tr>\n",
       "    <tr>\n",
       "      <th>1</th>\n",
       "      <td>581ccd7f0d63b178d22e9e54</td>\n",
       "      <td>Theory Collaborative</td>\n",
       "      <td>1250 California St, Redding, CA 96001</td>\n",
       "      <td>13034</td>\n",
       "      <td>Café</td>\n",
       "      <td>Dining and Drinking</td>\n",
       "      <td>818</td>\n",
       "      <td>8.9</td>\n",
       "      <td>35.0</td>\n",
       "      <td>34.0</td>\n",
       "      <td>4.0</td>\n",
       "      <td>0.978369</td>\n",
       "      <td>1.0</td>\n",
       "      <td>True</td>\n",
       "      <td>0</td>\n",
       "    </tr>\n",
       "    <tr>\n",
       "      <th>2</th>\n",
       "      <td>5a110c7f0fe7a07167d2f62f</td>\n",
       "      <td>Taste &amp; See Creamery</td>\n",
       "      <td>1419 Market St, Redding, CA 96001</td>\n",
       "      <td>13046</td>\n",
       "      <td>Ice Cream Parlor</td>\n",
       "      <td>Dining and Drinking</td>\n",
       "      <td>579</td>\n",
       "      <td>8.0</td>\n",
       "      <td>9.0</td>\n",
       "      <td>11.0</td>\n",
       "      <td>1.0</td>\n",
       "      <td>0.974588</td>\n",
       "      <td>1.0</td>\n",
       "      <td>False</td>\n",
       "      <td>0</td>\n",
       "    </tr>\n",
       "    <tr>\n",
       "      <th>3</th>\n",
       "      <td>4c4bf3589c8d2d7f72f4b76b</td>\n",
       "      <td>Club 501</td>\n",
       "      <td>1244 California St, Redding, CA 96001</td>\n",
       "      <td>13011</td>\n",
       "      <td>Gay Bar</td>\n",
       "      <td>Dining and Drinking</td>\n",
       "      <td>830</td>\n",
       "      <td>8.3</td>\n",
       "      <td>12.0</td>\n",
       "      <td>6.0</td>\n",
       "      <td>4.0</td>\n",
       "      <td>0.905461</td>\n",
       "      <td>2.0</td>\n",
       "      <td>False</td>\n",
       "      <td>0</td>\n",
       "    </tr>\n",
       "    <tr>\n",
       "      <th>4</th>\n",
       "      <td>4bfd76e4bf6576b08551adb8</td>\n",
       "      <td>Wienerschnitzel</td>\n",
       "      <td>1120 Market St, Redding, CA 96001</td>\n",
       "      <td>13058</td>\n",
       "      <td>Hot Dog Joint</td>\n",
       "      <td>Dining and Drinking</td>\n",
       "      <td>972</td>\n",
       "      <td>7.6</td>\n",
       "      <td>12.0</td>\n",
       "      <td>44.0</td>\n",
       "      <td>1.0</td>\n",
       "      <td>0.987294</td>\n",
       "      <td>1.0</td>\n",
       "      <td>False</td>\n",
       "      <td>0</td>\n",
       "    </tr>\n",
       "  </tbody>\n",
       "</table>\n",
       "</div>"
      ],
      "text/plain": [
       "                      fsqID                 venueName  \\\n",
       "0  4b5138a2f964a520cc4727e3  Market Street Steakhouse   \n",
       "1  581ccd7f0d63b178d22e9e54      Theory Collaborative   \n",
       "2  5a110c7f0fe7a07167d2f62f      Taste & See Creamery   \n",
       "3  4c4bf3589c8d2d7f72f4b76b                  Club 501   \n",
       "4  4bfd76e4bf6576b08551adb8           Wienerschnitzel   \n",
       "\n",
       "                        formattedAddress  catID           catName  \\\n",
       "0      1777 Market St, Redding, CA 96001  13383        Steakhouse   \n",
       "1  1250 California St, Redding, CA 96001  13034              Café   \n",
       "2      1419 Market St, Redding, CA 96001  13046  Ice Cream Parlor   \n",
       "3  1244 California St, Redding, CA 96001  13011           Gay Bar   \n",
       "4      1120 Market St, Redding, CA 96001  13058     Hot Dog Joint   \n",
       "\n",
       "            catIDGroup  distance  rating  totalRatings  totalPhotos  \\\n",
       "0  Dining and Drinking       188     8.7          14.0         12.0   \n",
       "1  Dining and Drinking       818     8.9          35.0         34.0   \n",
       "2  Dining and Drinking       579     8.0           9.0         11.0   \n",
       "3  Dining and Drinking       830     8.3          12.0          6.0   \n",
       "4  Dining and Drinking       972     7.6          12.0         44.0   \n",
       "\n",
       "   totalTips  popularity  price  storeVerified  stationIndex  \n",
       "0        6.0    0.966268    3.0          False             0  \n",
       "1        4.0    0.978369    1.0           True             0  \n",
       "2        1.0    0.974588    1.0          False             0  \n",
       "3        4.0    0.905461    2.0          False             0  \n",
       "4        1.0    0.987294    1.0          False             0  "
      ]
     },
     "execution_count": 10,
     "metadata": {},
     "output_type": "execute_result"
    }
   ],
   "source": [
    "FSVenuesDF.head()"
   ]
  },
  {
   "cell_type": "code",
   "execution_count": 11,
   "metadata": {},
   "outputs": [],
   "source": [
    "# FSVenuesDF.to_csv('../data/FoursquareVenuesDF.csv', sep=',')"
   ]
  },
  {
   "cell_type": "markdown",
   "metadata": {},
   "source": [
    "# [Yelp API](https://docs.developer.yelp.com/reference/v3_business_search)"
   ]
  },
  {
   "cell_type": "markdown",
   "metadata": {},
   "source": [
    "### Send a request to Yelp with a small radius (1000m) for all the bike stations in your city of choice. "
   ]
  },
  {
   "cell_type": "code",
   "execution_count": 74,
   "metadata": {},
   "outputs": [],
   "source": [
    "# Call Yelp API function\n",
    "def getVenuesYelp(latitude, longitude, radius, YelpKey, categories, limit):\n",
    "    \"\"\"\n",
    "    Get venues from yelp with a specified place type and coordinates.\n",
    "    Args:\n",
    "        latitude (float): latitude for query (must be combined with longitude)\n",
    "        longitude (float): longitude for query (must be combined with latitude)\n",
    "        api_key (str): foursquare API to use for query\n",
    "        categories (str) : string of category types. Seperate multiple types with commas\n",
    "        limit (int): Number of results to return, max 50\n",
    "\n",
    "    Returns:\n",
    "        response: response object from the requests library.\n",
    "    \"\"\"\n",
    "    headers = {\n",
    "        \"accept\": \"application/json\",\n",
    "        \"Authorization\": rf'Bearer {YelpKey}'\n",
    "    }\n",
    "\n",
    "    url = fr\"https://api.yelp.com/v3/businesses/search?latitude={latitude}&longitude={longitude}&radius={radius}&categories={categories}&sort_by=distance&limit={limit}\"\n",
    "\n",
    "    results = requests.get(url, headers=headers)\n",
    "\n",
    "    return results"
   ]
  },
  {
   "cell_type": "markdown",
   "metadata": {},
   "source": [
    "[Yelp Categories List](https://docs.developer.yelp.com/docs/resources-categories) for dining and POIs, selected to match Foursquare Categories\n",
    "\n",
    "* Active Life (active)\n",
    "* Arts & Entertainment (arts)\n",
    "* Food (food)\n",
    "* Restaurants (restaurants)\n",
    "* Bars (bars)\n",
    "* Landmarks & Historical Buildings (landmarks)\n",
    "\n",
    "Event Categories\n",
    "* Music (music)\n",
    "* Visual Arts (visual-arts)\n",
    "* Performing Arts (performing-arts)\n",
    "* Film (film)\n",
    "* Lectures & Books (lectures-books)\n",
    "* Food & Drink (food-and-drink)\n",
    "* Sports & Active Life (sports-active-life)\n",
    "* Nightlife (nightlife)\n"
   ]
  },
  {
   "cell_type": "code",
   "execution_count": 75,
   "metadata": {},
   "outputs": [],
   "source": [
    "# Setting Constant Variables \n",
    "YelpKey = os.getenv('YelpAPIKey')\n",
    "radius = 1000\n",
    "categories = 'active,arts,food,restauraunt,bars,landmarks'\n",
    "limit = 50"
   ]
  },
  {
   "cell_type": "code",
   "execution_count": 99,
   "metadata": {},
   "outputs": [],
   "source": [
    "# Pulling all info for each bike station into a list\n",
    "YelpVenues = [] \n",
    "\n",
    "# Category list created as the results from calling the API does not return the highest level of category Grouping.\n",
    "# Thus to create a combined dataframe of all the POIs and still be able to differentiate the different groups, seperate calls were needed.\n",
    "# categories = 'food-and-drink'\n",
    "\n",
    "for i in range(len(ReddingBikes)):\n",
    "    venues = getVenuesYelp(ReddingBikes['latitude'][i], ReddingBikes['longitude'][i], radius, YelpKey, categories, limit).json()\n",
    "    YelpVenues.append(venues)    \n",
    "\n",
    "# categories = 'food-and-drink' \n",
    "# for i in range(len(ReddingBikes)):\n",
    "#     venues = getVenuesYelp(ReddingBikes['latitude'][i], ReddingBikes['longitude'][i], radius, YelpKey, categories, limit).json()\n",
    "#     YelpVenues.append(venues)  "
   ]
  },
  {
   "cell_type": "markdown",
   "metadata": {},
   "source": [
    "### Parse through the response to get the POI (such as restaurants, bars, etc) details you want (ratings, name, location, etc)"
   ]
  },
  {
   "cell_type": "code",
   "execution_count": 77,
   "metadata": {},
   "outputs": [],
   "source": [
    "# Function to return list of desired results from each yelp venue\n",
    "def ParseYelpResults(venue): \n",
    "    \"\"\" \n",
    "    Parses elements from a venue in the list of results given by a Yelp Query.\n",
    "\n",
    "    Args: \n",
    "        venue (dict): A venue from the list of Foursquare Venues for each station\n",
    "\n",
    "    Returns a list of preset elements in the following order from the venue.  \n",
    "    List order: ['YelpID','venueName','displayAddress','categoryTitle','distance','rating','reviewCount','price']\n",
    "    \"\"\"\n",
    "    # Yelp core data. All venues have this information \n",
    "    yelpID = venue['id']\n",
    "    venueName = venue['name']\n",
    "    displayAddress = venue['location']['display_address']\n",
    "    categoryTitle = venue['categories'][0]['alias']\n",
    "    distance = venue['distance']\n",
    "    rating = venue['rating']\n",
    "    reviewCount = venue['review_count']\n",
    "    \n",
    "    \n",
    "    # FS Rich data. Fields which may not exist\n",
    "    try: \n",
    "        price = len(venue['price'])\n",
    "    except:\n",
    "        price = None\n",
    "\n",
    "    returnList = [yelpID, venueName, displayAddress, categoryTitle, distance, rating, reviewCount, price]\n",
    "\n",
    "    return returnList"
   ]
  },
  {
   "cell_type": "code",
   "execution_count": 78,
   "metadata": {},
   "outputs": [],
   "source": [
    "# Parsing all results into a list using function for tidy data that can be converted to DF\n",
    "YelpVenueList = []\n",
    "\n",
    "for i in range(len(YelpVenues)):\n",
    "    for venue in YelpVenues[i]['businesses']:\n",
    "        returnList = ParseYelpResults(venue)\n",
    "        returnList.extend([i, YelpVenues[i]['total']])\n",
    "        YelpVenueList.append(returnList)"
   ]
  },
  {
   "cell_type": "markdown",
   "metadata": {},
   "source": [
    "### Put your parsed results into a DataFrame"
   ]
  },
  {
   "cell_type": "code",
   "execution_count": 79,
   "metadata": {},
   "outputs": [],
   "source": [
    "yelpColumnsHeader = ['YelpID','venueName', 'displayAddress','categoryTitle','distance','rating','reviewCount','price','stationIndex','totalVenues']\n",
    "\n",
    "yelpVenuesDF = pd.DataFrame(YelpVenueList)\n",
    "yelpVenuesDF.columns=yelpColumnsHeader"
   ]
  },
  {
   "cell_type": "code",
   "execution_count": 80,
   "metadata": {},
   "outputs": [
    {
     "data": {
      "text/html": [
       "<div>\n",
       "<style scoped>\n",
       "    .dataframe tbody tr th:only-of-type {\n",
       "        vertical-align: middle;\n",
       "    }\n",
       "\n",
       "    .dataframe tbody tr th {\n",
       "        vertical-align: top;\n",
       "    }\n",
       "\n",
       "    .dataframe thead th {\n",
       "        text-align: right;\n",
       "    }\n",
       "</style>\n",
       "<table border=\"1\" class=\"dataframe\">\n",
       "  <thead>\n",
       "    <tr style=\"text-align: right;\">\n",
       "      <th></th>\n",
       "      <th>YelpID</th>\n",
       "      <th>venueName</th>\n",
       "      <th>displayAddress</th>\n",
       "      <th>categoryTitle</th>\n",
       "      <th>distance</th>\n",
       "      <th>rating</th>\n",
       "      <th>reviewCount</th>\n",
       "      <th>price</th>\n",
       "      <th>stationIndex</th>\n",
       "      <th>totalVenues</th>\n",
       "    </tr>\n",
       "  </thead>\n",
       "  <tbody>\n",
       "    <tr>\n",
       "      <th>0</th>\n",
       "      <td>rgvwGrdnSPGdw92xypeHmg</td>\n",
       "      <td>Roots Juice Bar</td>\n",
       "      <td>[1950 Pine St, Redding, CA 96001]</td>\n",
       "      <td>juicebars</td>\n",
       "      <td>65.810927</td>\n",
       "      <td>4.4</td>\n",
       "      <td>62</td>\n",
       "      <td>NaN</td>\n",
       "      <td>0</td>\n",
       "      <td>102</td>\n",
       "    </tr>\n",
       "    <tr>\n",
       "      <th>1</th>\n",
       "      <td>bbFV2MAL2KdXZ3txwaI_wQ</td>\n",
       "      <td>The Grape Escape</td>\n",
       "      <td>[1824 Pine St, Redding, CA 96001]</td>\n",
       "      <td>beer_and_wine</td>\n",
       "      <td>142.235695</td>\n",
       "      <td>4.7</td>\n",
       "      <td>20</td>\n",
       "      <td>2.0</td>\n",
       "      <td>0</td>\n",
       "      <td>102</td>\n",
       "    </tr>\n",
       "    <tr>\n",
       "      <th>2</th>\n",
       "      <td>rmkMkpGpEE4sDgdiOYe2BA</td>\n",
       "      <td>TRUE  Ride</td>\n",
       "      <td>[2100 Market St, Redding, CA 96001]</td>\n",
       "      <td>cyclingclasses</td>\n",
       "      <td>164.615711</td>\n",
       "      <td>4.7</td>\n",
       "      <td>29</td>\n",
       "      <td>NaN</td>\n",
       "      <td>0</td>\n",
       "      <td>102</td>\n",
       "    </tr>\n",
       "    <tr>\n",
       "      <th>3</th>\n",
       "      <td>-bURSXDTgRK0wFp0_oNbpg</td>\n",
       "      <td>Evergreen - Coffee Shop &amp; Boutique Hotel</td>\n",
       "      <td>[2085 Pine St, Redding, CA 96001]</td>\n",
       "      <td>coffee</td>\n",
       "      <td>185.533435</td>\n",
       "      <td>4.2</td>\n",
       "      <td>200</td>\n",
       "      <td>2.0</td>\n",
       "      <td>0</td>\n",
       "      <td>102</td>\n",
       "    </tr>\n",
       "    <tr>\n",
       "      <th>4</th>\n",
       "      <td>nd7wlihGZ5hm01aaqJhHPg</td>\n",
       "      <td>Market Street Blade And Barrel</td>\n",
       "      <td>[1777 Market St, Redding, CA 96001]</td>\n",
       "      <td>steak</td>\n",
       "      <td>189.259600</td>\n",
       "      <td>3.6</td>\n",
       "      <td>241</td>\n",
       "      <td>3.0</td>\n",
       "      <td>0</td>\n",
       "      <td>102</td>\n",
       "    </tr>\n",
       "  </tbody>\n",
       "</table>\n",
       "</div>"
      ],
      "text/plain": [
       "                   YelpID                                 venueName  \\\n",
       "0  rgvwGrdnSPGdw92xypeHmg                           Roots Juice Bar   \n",
       "1  bbFV2MAL2KdXZ3txwaI_wQ                          The Grape Escape   \n",
       "2  rmkMkpGpEE4sDgdiOYe2BA                                TRUE  Ride   \n",
       "3  -bURSXDTgRK0wFp0_oNbpg  Evergreen - Coffee Shop & Boutique Hotel   \n",
       "4  nd7wlihGZ5hm01aaqJhHPg            Market Street Blade And Barrel   \n",
       "\n",
       "                        displayAddress   categoryTitle    distance  rating  \\\n",
       "0    [1950 Pine St, Redding, CA 96001]       juicebars   65.810927     4.4   \n",
       "1    [1824 Pine St, Redding, CA 96001]   beer_and_wine  142.235695     4.7   \n",
       "2  [2100 Market St, Redding, CA 96001]  cyclingclasses  164.615711     4.7   \n",
       "3    [2085 Pine St, Redding, CA 96001]          coffee  185.533435     4.2   \n",
       "4  [1777 Market St, Redding, CA 96001]           steak  189.259600     3.6   \n",
       "\n",
       "   reviewCount  price  stationIndex  totalVenues  \n",
       "0           62    NaN             0          102  \n",
       "1           20    2.0             0          102  \n",
       "2           29    NaN             0          102  \n",
       "3          200    2.0             0          102  \n",
       "4          241    3.0             0          102  "
      ]
     },
     "execution_count": 80,
     "metadata": {},
     "output_type": "execute_result"
    }
   ],
   "source": [
    "yelpVenuesDF.head()"
   ]
  },
  {
   "cell_type": "code",
   "execution_count": 81,
   "metadata": {},
   "outputs": [],
   "source": [
    "# yelpVenuesDF.to_csv('../data/yelpVenuesDF.csv', sep=',')"
   ]
  },
  {
   "cell_type": "markdown",
   "metadata": {},
   "source": [
    "# Comparing Results"
   ]
  },
  {
   "cell_type": "markdown",
   "metadata": {},
   "source": [
    "### Which API provided you with more complete data? Provide an explanation. "
   ]
  },
  {
   "cell_type": "markdown",
   "metadata": {},
   "source": [
    "Yelp provided much more locations/venues given very similar categories to search for (Due to API limitating 50 calls per location, . Distance from each station was used to determine which ones were called and which ones were exclude for this limitation). Yelp has much more reviews than foursquare. Foursqaure returned some information that were not included from Yelp such as number of photos. Foursquare provided popularity field (score from 0 to 1 of foursquare foot traffic over the last 6 months). Both foursqaure and yelp have reports for buisness or advertisements in-depth metric reports, but from the much larger number of reviews on yelp, it is likely there is much more data on yelp and therefore more insights to be gathered.\n",
    "\n",
    "[Foursquare Fields](https://docs.foursquare.com/developer/reference/response-fields)\n",
    "\n",
    "[Yelp Metric Reports](https://docs.developer.yelp.com/reference/create_daily_reports_v3)"
   ]
  },
  {
   "cell_type": "code",
   "execution_count": 28,
   "metadata": {},
   "outputs": [
    {
     "name": "stdout",
     "output_type": "stream",
     "text": [
      "Total number of Foursqaure locations/venues found: 837\n",
      "Total number of Yelp locations/venues found: 1859\n"
     ]
    }
   ],
   "source": [
    "print(f'Total number of Foursqaure locations/venues found: {len(FSVenuesDF)}')\n",
    "\n",
    "# Loop to find total locations/venues found required for Yelp as not all of them returned from API and inserted to dataframe. \n",
    "totalYelpLocations = 0\n",
    "\n",
    "for Venues in YelpVenues:\n",
    "    totalYelpLocations += Venues['total']\n",
    "\n",
    "print(f'Total number of Yelp locations/venues found: {totalYelpLocations}')\n"
   ]
  },
  {
   "cell_type": "code",
   "execution_count": 34,
   "metadata": {},
   "outputs": [
    {
     "name": "stdout",
     "output_type": "stream",
     "text": [
      "Foursqaure average of number of reviews: 14.8\n",
      "Foursqaure average of number of reviews: 71.12158341187559\n"
     ]
    }
   ],
   "source": [
    "print(f\"Foursqaure average of number of reviews: {FSVenuesDF['totalRatings'].mean()}\")\n",
    "print(f\"Yelp average of number of reviews: {yelpVenuesDF['reviewCount'].mean()}\")"
   ]
  },
  {
   "cell_type": "code",
   "execution_count": 35,
   "metadata": {},
   "outputs": [
    {
     "name": "stdout",
     "output_type": "stream",
     "text": [
      "Foursqaure Unique Locations: 133\n",
      "Foursqaure Unique Locations: 141\n"
     ]
    }
   ],
   "source": [
    "print(f\"Foursqaure Unique Locations: {FSVenuesDF['venueName'].nunique()}\")\n",
    "print(f\"Yelp Unique Locations: {yelpVenuesDF['venueName'].nunique()}\")"
   ]
  },
  {
   "cell_type": "markdown",
   "metadata": {},
   "source": [
    "### Get the top 10 restaurants according to their rating"
   ]
  },
  {
   "cell_type": "code",
   "execution_count": 87,
   "metadata": {},
   "outputs": [
    {
     "name": "stdout",
     "output_type": "stream",
     "text": [
      "Top 10 Restaurants from Foursquare:\n"
     ]
    },
    {
     "data": {
      "text/html": [
       "<div>\n",
       "<style scoped>\n",
       "    .dataframe tbody tr th:only-of-type {\n",
       "        vertical-align: middle;\n",
       "    }\n",
       "\n",
       "    .dataframe tbody tr th {\n",
       "        vertical-align: top;\n",
       "    }\n",
       "\n",
       "    .dataframe thead th {\n",
       "        text-align: right;\n",
       "    }\n",
       "</style>\n",
       "<table border=\"1\" class=\"dataframe\">\n",
       "  <thead>\n",
       "    <tr style=\"text-align: right;\">\n",
       "      <th></th>\n",
       "      <th>rating</th>\n",
       "      <th>totalRatings</th>\n",
       "    </tr>\n",
       "    <tr>\n",
       "      <th>venueName</th>\n",
       "      <th></th>\n",
       "      <th></th>\n",
       "    </tr>\n",
       "  </thead>\n",
       "  <tbody>\n",
       "    <tr>\n",
       "      <th>Theory Collaborative</th>\n",
       "      <td>8.9</td>\n",
       "      <td>35.0</td>\n",
       "    </tr>\n",
       "    <tr>\n",
       "      <th>Market Street Steakhouse</th>\n",
       "      <td>8.7</td>\n",
       "      <td>14.0</td>\n",
       "    </tr>\n",
       "    <tr>\n",
       "      <th>Club 501</th>\n",
       "      <td>8.3</td>\n",
       "      <td>12.0</td>\n",
       "    </tr>\n",
       "    <tr>\n",
       "      <th>Dutch Bros Coffee</th>\n",
       "      <td>8.1</td>\n",
       "      <td>33.0</td>\n",
       "    </tr>\n",
       "    <tr>\n",
       "      <th>Anthony's Mediterranean Cuisine</th>\n",
       "      <td>8.1</td>\n",
       "      <td>16.0</td>\n",
       "    </tr>\n",
       "    <tr>\n",
       "      <th>Taste &amp; See Creamery</th>\n",
       "      <td>8.0</td>\n",
       "      <td>9.0</td>\n",
       "    </tr>\n",
       "    <tr>\n",
       "      <th>Dutch Bros Coffee</th>\n",
       "      <td>7.8</td>\n",
       "      <td>9.0</td>\n",
       "    </tr>\n",
       "    <tr>\n",
       "      <th>Wienerschnitzel</th>\n",
       "      <td>7.6</td>\n",
       "      <td>12.0</td>\n",
       "    </tr>\n",
       "    <tr>\n",
       "      <th>Dutch Bros Coffee</th>\n",
       "      <td>7.2</td>\n",
       "      <td>10.0</td>\n",
       "    </tr>\n",
       "    <tr>\n",
       "      <th>Thai Cafe</th>\n",
       "      <td>7.0</td>\n",
       "      <td>15.0</td>\n",
       "    </tr>\n",
       "  </tbody>\n",
       "</table>\n",
       "</div>"
      ],
      "text/plain": [
       "                                 rating  totalRatings\n",
       "venueName                                            \n",
       "Theory Collaborative                8.9          35.0\n",
       "Market Street Steakhouse            8.7          14.0\n",
       "Club 501                            8.3          12.0\n",
       "Dutch Bros Coffee                   8.1          33.0\n",
       "Anthony's Mediterranean Cuisine     8.1          16.0\n",
       "Taste & See Creamery                8.0           9.0\n",
       "Dutch Bros Coffee                   7.8           9.0\n",
       "Wienerschnitzel                     7.6          12.0\n",
       "Dutch Bros Coffee                   7.2          10.0\n",
       "Thai Cafe                           7.0          15.0"
      ]
     },
     "execution_count": 87,
     "metadata": {},
     "output_type": "execute_result"
    }
   ],
   "source": [
    "print('Top 10 Restaurants from Foursquare:')\n",
    "FSRestaurantsDF = FSVenuesDF[FSVenuesDF['catIDGroup']=='Dining and Drinking']\n",
    "FSRestaurantsDF[['venueName','rating','totalRatings']].set_index('venueName').drop_duplicates().sort_values('rating',ascending=False).head(10)\n"
   ]
  },
  {
   "cell_type": "code",
   "execution_count": 89,
   "metadata": {},
   "outputs": [
    {
     "name": "stdout",
     "output_type": "stream",
     "text": [
      "Top 10 Restaurants from Yelp:\n"
     ]
    },
    {
     "data": {
      "text/plain": [
       "array(['juicebars', 'beer_and_wine', 'cyclingclasses', 'coffee', 'steak',\n",
       "       'musicvenues', 'tradamerican', 'salad', 'dancestudio', 'beerbar',\n",
       "       'theater', 'gymnastics', 'breweries', 'bars', 'meats',\n",
       "       'artclasses', 'healthtrainers', 'farmersmarket', 'drugstores',\n",
       "       'catering', 'videogamestores', 'herbsandspices', 'wine_bars',\n",
       "       'galleries', 'grocery', 'escapegames', 'museums',\n",
       "       'winetastingroom', 'bootcamps', 'icecream', 'bakeries',\n",
       "       'festivals', 'sportgoods', 'cocktailbars', 'stadiumsarenas',\n",
       "       'seafood', 'donuts', 'paintandsip', 'recreation',\n",
       "       'musicalinstrumentsandteachers', 'tours', 'boatcharters',\n",
       "       'breakfast_brunch', 'gaybars', 'social_clubs', 'newamerican',\n",
       "       'diveshops', 'cosmetics', 'parks', 'golf', 'swimmingpools',\n",
       "       'playgrounds', 'fooddeliveryservices', 'bubbletea', 'gyms',\n",
       "       'servicestations', 'convenience', 'rafting', 'bikes', 'foodtrucks',\n",
       "       'paddleboarding', 'boating', 'horsebackriding', 'fishing',\n",
       "       'desserts', 'farms', 'weightlosscenters', 'martialarts',\n",
       "       'healthmarkets', 'intlgrocery', 'pilates', 'lasertag', 'mexican',\n",
       "       'rock_climbing', 'chinesemartialarts', 'sportsbars',\n",
       "       'massage_therapy', 'landmarks', 'skatingrinks', 'planetarium',\n",
       "       'dog_parks', 'eventphotography'], dtype=object)"
      ]
     },
     "execution_count": 89,
     "metadata": {},
     "output_type": "execute_result"
    }
   ],
   "source": [
    "print('Top 10 Restaurants from Yelp:')\n",
    "yelpVenuesDF['categoryTitle'].unique()\n",
    "# MultiReviews = yelpVenuesDF[yelpVenuesDF['reviewCount'] > 4]\n",
    "# MultiReviews[['venueName','rating','reviewCount']].set_index('venueName').drop_duplicates().sort_values('rating',ascending=False).head(10)\n"
   ]
  },
  {
   "cell_type": "code",
   "execution_count": 92,
   "metadata": {},
   "outputs": [
    {
     "data": {
      "text/plain": [
       "{'id': 'CKUtFK5sqlRYxQN_FPDghg',\n",
       " 'alias': 'riverfront-playhouse-redding',\n",
       " 'name': 'Riverfront Playhouse',\n",
       " 'image_url': 'https://s3-media3.fl.yelpcdn.com/bphoto/g-tkk4mzBB2VFJrsw8BIHA/o.jpg',\n",
       " 'is_closed': False,\n",
       " 'url': 'https://www.yelp.com/biz/riverfront-playhouse-redding?adjust_creative=aOiDJz5PxNb73roKFPGFQg&utm_campaign=yelp_api_v3&utm_medium=api_v3_business_search&utm_source=aOiDJz5PxNb73roKFPGFQg',\n",
       " 'review_count': 4,\n",
       " 'categories': [{'alias': 'theater', 'title': 'Performing Arts'}],\n",
       " 'rating': 4.8,\n",
       " 'coordinates': {'latitude': 40.57975126019169,\n",
       "  'longitude': -122.39174263809814},\n",
       " 'transactions': [],\n",
       " 'location': {'address1': '1950 California St',\n",
       "  'address2': None,\n",
       "  'address3': None,\n",
       "  'city': 'Redding',\n",
       "  'zip_code': '96002',\n",
       "  'country': 'US',\n",
       "  'state': 'CA',\n",
       "  'display_address': ['1950 California St', 'Redding, CA 96002']},\n",
       " 'phone': '+15302211028',\n",
       " 'display_phone': '(530) 221-1028',\n",
       " 'distance': 241.92033741688513,\n",
       " 'attributes': {'business_temp_closed': None, 'waitlist_reservation': None}}"
      ]
     },
     "execution_count": 92,
     "metadata": {},
     "output_type": "execute_result"
    }
   ],
   "source": [
    "YelpVenues[0]['businesses'][10]"
   ]
  },
  {
   "cell_type": "code",
   "execution_count": 93,
   "metadata": {},
   "outputs": [],
   "source": [
    "headers = {\n",
    "    'Authorization': f'Bearer {YelpKey}',\n",
    "}\n",
    "url = 'https://api.yelp.com/v3/businesses/search'\n",
    "params = {\n",
    "    'location': 'New York, NY',\n",
    "    'categories': 'restaurants'  # Example of multiple categories\n",
    "}\n",
    "\n",
    "response = requests.get(url, headers=headers, params=params)\n",
    "data = response.json()"
   ]
  },
  {
   "cell_type": "code",
   "execution_count": 98,
   "metadata": {},
   "outputs": [
    {
     "data": {
      "text/plain": [
       "{'id': 'nRO136GRieGtxz18uD61DA',\n",
       " 'alias': 'eleven-madison-park-new-york',\n",
       " 'name': 'Eleven Madison Park',\n",
       " 'image_url': 'https://s3-media1.fl.yelpcdn.com/bphoto/s_H7gm_Hwmz--O6bo1iU-A/o.jpg',\n",
       " 'is_closed': False,\n",
       " 'url': 'https://www.yelp.com/biz/eleven-madison-park-new-york?adjust_creative=aOiDJz5PxNb73roKFPGFQg&utm_campaign=yelp_api_v3&utm_medium=api_v3_business_search&utm_source=aOiDJz5PxNb73roKFPGFQg',\n",
       " 'review_count': 2495,\n",
       " 'categories': [{'alias': 'newamerican', 'title': 'New American'},\n",
       "  {'alias': 'french', 'title': 'French'},\n",
       "  {'alias': 'cocktailbars', 'title': 'Cocktail Bars'}],\n",
       " 'rating': 4.3,\n",
       " 'coordinates': {'latitude': 40.7416907417333, 'longitude': -73.9872074872255},\n",
       " 'transactions': [],\n",
       " 'price': '$$$$',\n",
       " 'location': {'address1': '11 Madison Ave',\n",
       "  'address2': '',\n",
       "  'address3': '',\n",
       "  'city': 'New York',\n",
       "  'zip_code': '10010',\n",
       "  'country': 'US',\n",
       "  'state': 'NY',\n",
       "  'display_address': ['11 Madison Ave', 'New York, NY 10010']},\n",
       " 'phone': '+12128890905',\n",
       " 'display_phone': '(212) 889-0905',\n",
       " 'distance': 4062.929570044286,\n",
       " 'attributes': {'business_temp_closed': None,\n",
       "  'menu_url': 'http://www.elevenmadisonpark.com/menus/',\n",
       "  'open24_hours': None,\n",
       "  'waitlist_reservation': None}}"
      ]
     },
     "execution_count": 98,
     "metadata": {},
     "output_type": "execute_result"
    }
   ],
   "source": [
    "data['businesses'][3]"
   ]
  }
 ],
 "metadata": {
  "kernelspec": {
   "display_name": "Python 3",
   "language": "python",
   "name": "python3"
  },
  "language_info": {
   "codemirror_mode": {
    "name": "ipython",
    "version": 3
   },
   "file_extension": ".py",
   "mimetype": "text/x-python",
   "name": "python",
   "nbconvert_exporter": "python",
   "pygments_lexer": "ipython3",
   "version": "3.9.19"
  }
 },
 "nbformat": 4,
 "nbformat_minor": 4
}
