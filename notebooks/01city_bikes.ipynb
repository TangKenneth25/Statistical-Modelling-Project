{
 "cells": [
  {
   "cell_type": "markdown",
   "metadata": {},
   "source": [
    "# [CityBikes](https://citybik.es/)"
   ]
  },
  {
   "cell_type": "markdown",
   "metadata": {},
   "source": [
    "### Send a request to CityBikes for the city of your choice. "
   ]
  },
  {
   "cell_type": "code",
   "execution_count": 1,
   "metadata": {},
   "outputs": [],
   "source": [
    "import requests\n",
    "import json\n",
    "import pandas as pd"
   ]
  },
  {
   "cell_type": "code",
   "execution_count": 32,
   "metadata": {},
   "outputs": [
    {
     "name": "stdout",
     "output_type": "stream",
     "text": [
      "<Response [200]>\n"
     ]
    }
   ],
   "source": [
    "# Call fields, name, href, and location to figure out city endpoint\n",
    "url = 'http://api.citybik.es/v2/networks'\n",
    "response = requests.get(url)\n",
    "print(response)\n",
    "networks = response.json()"
   ]
  },
  {
   "cell_type": "markdown",
   "metadata": {},
   "source": [
    "Parsing through and determining keys in json dictionary\n",
    "\n",
    "networks.keys() <br> \n",
    "dict_keys(['networks'])\n",
    "\n",
    "networks['networks'][0].keys() <br>\n",
    "dict_keys(['company', 'href', 'id', 'location', 'name'])\n",
    "\n",
    "networks['networks'][0]['location'].keys()<br>\n",
    "dict_keys(['city', 'country', 'latitude', 'longitude'])\n"
   ]
  },
  {
   "cell_type": "code",
   "execution_count": 33,
   "metadata": {},
   "outputs": [
    {
     "data": {
      "text/plain": [
       "{'company': ['BCycle, LLC'],\n",
       " 'gbfs_href': 'https://gbfs.bcycle.com/bcycle_redding/gbfs.json',\n",
       " 'href': '/v2/networks/redding',\n",
       " 'id': 'redding',\n",
       " 'location': {'city': 'Redding, CA',\n",
       "  'country': 'US',\n",
       "  'latitude': 40.5875,\n",
       "  'longitude': -122.386},\n",
       " 'name': 'Redding BCycle'}"
      ]
     },
     "execution_count": 33,
     "metadata": {},
     "output_type": "execute_result"
    }
   ],
   "source": [
    "networks['networks'][688]"
   ]
  },
  {
   "cell_type": "code",
   "execution_count": 46,
   "metadata": {},
   "outputs": [
    {
     "data": {
      "text/plain": [
       "688"
      ]
     },
     "execution_count": 46,
     "metadata": {},
     "output_type": "execute_result"
    }
   ],
   "source": [
    "# Finding index of Redding, CA in networks\n",
    "for i in range(len(networks['networks'])):\n",
    "    if 'Redding' in networks['networks'][i]['location']['city']:\n",
    "        index = i\n",
    "\n",
    "index"
   ]
  },
  {
   "cell_type": "code",
   "execution_count": 47,
   "metadata": {},
   "outputs": [],
   "source": [
    "href = networks['networks'][index]['href']"
   ]
  },
  {
   "cell_type": "code",
   "execution_count": 28,
   "metadata": {},
   "outputs": [],
   "source": [
    "url = fr'http://api.citybik.es{href}'\n",
    "response = requests.get(url)\n",
    "results = response.json()"
   ]
  },
  {
   "cell_type": "code",
   "execution_count": null,
   "metadata": {},
   "outputs": [],
   "source": [
    "with open('../data/ReddingCityBike.json', 'w') as f:\n",
    "    json.dump(results, f)"
   ]
  },
  {
   "cell_type": "markdown",
   "metadata": {},
   "source": [
    "### Parse through the response to get the details you want for the bike stations in that city (latitude, longitude, number of bikes). "
   ]
  },
  {
   "cell_type": "markdown",
   "metadata": {},
   "source": [
    "Keys for Reddings Results\n",
    "\n",
    "results.keys() <br>\n",
    "dict_keys(['networks'])\n",
    "\n",
    "results['network'].keys() <br>\n",
    "dict_keys(['company', 'gbfs_href', 'href', 'id', 'location', 'name', 'stations'])\n",
    "\n",
    "results['network']['location'].keys()\n",
    "dict_keys(['city', 'country', 'latitude', 'longitude'])\n",
    "\n",
    "results['network']['stations'][0].keys()\n",
    "dict_keys(['empty_slots', 'extra', 'free_bikes', 'id', 'latitude', 'longitude', 'name', 'timestamp'])\n",
    "\n"
   ]
  },
  {
   "cell_type": "code",
   "execution_count": 59,
   "metadata": {},
   "outputs": [
    {
     "name": "stdout",
     "output_type": "stream",
     "text": [
      "['BCycle, LLC']\n",
      "https://gbfs.bcycle.com/bcycle_redding/gbfs.json\n",
      "/v2/networks/redding\n",
      "redding\n",
      "{'city': 'Redding, CA', 'country': 'US', 'latitude': 40.5875, 'longitude': -122.386}\n",
      "Redding BCycle\n"
     ]
    }
   ],
   "source": [
    "print(results['network']['company'])\n",
    "print(results['network']['gbfs_href'])\n",
    "print(results['network']['href'])\n",
    "print(results['network']['id'])\n",
    "print(results['network']['location'])\n",
    "print(results['network']['name'])\n"
   ]
  },
  {
   "cell_type": "code",
   "execution_count": null,
   "metadata": {},
   "outputs": [
    {
     "data": {
      "text/plain": [
       "{'empty_slots': 2,\n",
       " 'extra': {'address': 'Market Street & Gold Street',\n",
       "  'ebikes': 2,\n",
       "  'has_ebikes': True,\n",
       "  'last_updated': 1716266776,\n",
       "  'normal_bikes': 0,\n",
       "  'rental_uris': {'android': 'https://www.bcycle.com/applink?system_id=bcycle_redding&station_id=bcycle_redding_7427&platform=android',\n",
       "   'ios': 'https://www.bcycle.com/applink?system_id=bcycle_redding&station_id=bcycle_redding_7427&platform=iOS'},\n",
       "  'renting': 1,\n",
       "  'returning': 1,\n",
       "  'uid': 'bcycle_redding_7427'},\n",
       " 'free_bikes': 2,\n",
       " 'id': 'bb7665847eda4d3b5654ef23584bba2f',\n",
       " 'latitude': 40.58002,\n",
       " 'longitude': -122.3889,\n",
       " 'name': 'Market and Gold Street',\n",
       " 'timestamp': '2024-05-21T04:46:17.148000Z'}"
      ]
     },
     "metadata": {},
     "output_type": "display_data"
    }
   ],
   "source": [
    "results['network']['stations'][0]"
   ]
  },
  {
   "cell_type": "code",
   "execution_count": 48,
   "metadata": {},
   "outputs": [
    {
     "data": {
      "text/plain": [
       "22"
      ]
     },
     "execution_count": 48,
     "metadata": {},
     "output_type": "execute_result"
    }
   ],
   "source": [
    "len(results['network']['stations'])"
   ]
  },
  {
   "cell_type": "code",
   "execution_count": 55,
   "metadata": {},
   "outputs": [
    {
     "data": {
      "text/html": [
       "<div>\n",
       "<style scoped>\n",
       "    .dataframe tbody tr th:only-of-type {\n",
       "        vertical-align: middle;\n",
       "    }\n",
       "\n",
       "    .dataframe tbody tr th {\n",
       "        vertical-align: top;\n",
       "    }\n",
       "\n",
       "    .dataframe thead th {\n",
       "        text-align: right;\n",
       "    }\n",
       "</style>\n",
       "<table border=\"1\" class=\"dataframe\">\n",
       "  <thead>\n",
       "    <tr style=\"text-align: right;\">\n",
       "      <th></th>\n",
       "      <th>empty_slots</th>\n",
       "      <th>free_bikes</th>\n",
       "      <th>id</th>\n",
       "      <th>latitude</th>\n",
       "      <th>longitude</th>\n",
       "      <th>name</th>\n",
       "      <th>timestamp</th>\n",
       "      <th>extra.address</th>\n",
       "      <th>extra.ebikes</th>\n",
       "      <th>extra.has_ebikes</th>\n",
       "      <th>extra.last_updated</th>\n",
       "      <th>extra.normal_bikes</th>\n",
       "      <th>extra.rental_uris.android</th>\n",
       "      <th>extra.rental_uris.ios</th>\n",
       "      <th>extra.renting</th>\n",
       "      <th>extra.returning</th>\n",
       "      <th>extra.uid</th>\n",
       "    </tr>\n",
       "  </thead>\n",
       "  <tbody>\n",
       "    <tr>\n",
       "      <th>0</th>\n",
       "      <td>2</td>\n",
       "      <td>2</td>\n",
       "      <td>bb7665847eda4d3b5654ef23584bba2f</td>\n",
       "      <td>40.58002</td>\n",
       "      <td>-122.38890</td>\n",
       "      <td>Market and Gold Street</td>\n",
       "      <td>2024-05-21T04:46:17.148000Z</td>\n",
       "      <td>Market Street &amp; Gold Street</td>\n",
       "      <td>2</td>\n",
       "      <td>True</td>\n",
       "      <td>1716266776</td>\n",
       "      <td>0</td>\n",
       "      <td>https://www.bcycle.com/applink?system_id=bcycl...</td>\n",
       "      <td>https://www.bcycle.com/applink?system_id=bcycl...</td>\n",
       "      <td>1</td>\n",
       "      <td>1</td>\n",
       "      <td>bcycle_redding_7427</td>\n",
       "    </tr>\n",
       "    <tr>\n",
       "      <th>1</th>\n",
       "      <td>3</td>\n",
       "      <td>2</td>\n",
       "      <td>3bb59ffd3799adff3f475e8d3985532f</td>\n",
       "      <td>40.58352</td>\n",
       "      <td>-122.39042</td>\n",
       "      <td>Market Center South</td>\n",
       "      <td>2024-05-21T04:46:17.152000Z</td>\n",
       "      <td>Market Street &amp; Yuba Street</td>\n",
       "      <td>2</td>\n",
       "      <td>True</td>\n",
       "      <td>1716266776</td>\n",
       "      <td>0</td>\n",
       "      <td>https://www.bcycle.com/applink?system_id=bcycl...</td>\n",
       "      <td>https://www.bcycle.com/applink?system_id=bcycl...</td>\n",
       "      <td>1</td>\n",
       "      <td>1</td>\n",
       "      <td>bcycle_redding_7426</td>\n",
       "    </tr>\n",
       "    <tr>\n",
       "      <th>2</th>\n",
       "      <td>2</td>\n",
       "      <td>3</td>\n",
       "      <td>08aae6d19bdfffb93561437caf892f36</td>\n",
       "      <td>40.58435</td>\n",
       "      <td>-122.39067</td>\n",
       "      <td>Market Center North</td>\n",
       "      <td>2024-05-21T04:46:17.153000Z</td>\n",
       "      <td>1371 Butte Street</td>\n",
       "      <td>3</td>\n",
       "      <td>True</td>\n",
       "      <td>1716266776</td>\n",
       "      <td>0</td>\n",
       "      <td>https://www.bcycle.com/applink?system_id=bcycl...</td>\n",
       "      <td>https://www.bcycle.com/applink?system_id=bcycl...</td>\n",
       "      <td>1</td>\n",
       "      <td>1</td>\n",
       "      <td>bcycle_redding_7425</td>\n",
       "    </tr>\n",
       "    <tr>\n",
       "      <th>3</th>\n",
       "      <td>3</td>\n",
       "      <td>2</td>\n",
       "      <td>dd5c0ef4079f9e920b3cdba5c3ca167c</td>\n",
       "      <td>40.59502</td>\n",
       "      <td>-122.40150</td>\n",
       "      <td>Diestelhorst Bridge</td>\n",
       "      <td>2024-05-21T04:46:17.160000Z</td>\n",
       "      <td>Benton Drive</td>\n",
       "      <td>2</td>\n",
       "      <td>True</td>\n",
       "      <td>1716266776</td>\n",
       "      <td>0</td>\n",
       "      <td>https://www.bcycle.com/applink?system_id=bcycl...</td>\n",
       "      <td>https://www.bcycle.com/applink?system_id=bcycl...</td>\n",
       "      <td>1</td>\n",
       "      <td>1</td>\n",
       "      <td>bcycle_redding_7424</td>\n",
       "    </tr>\n",
       "    <tr>\n",
       "      <th>4</th>\n",
       "      <td>3</td>\n",
       "      <td>3</td>\n",
       "      <td>64a7ac84a24f102734b87abc4ba71af0</td>\n",
       "      <td>40.57337</td>\n",
       "      <td>-122.38177</td>\n",
       "      <td>Redding City Hall</td>\n",
       "      <td>2024-05-21T04:46:17.161000Z</td>\n",
       "      <td>777 Cypress Ave</td>\n",
       "      <td>3</td>\n",
       "      <td>True</td>\n",
       "      <td>1716266776</td>\n",
       "      <td>0</td>\n",
       "      <td>https://www.bcycle.com/applink?system_id=bcycl...</td>\n",
       "      <td>https://www.bcycle.com/applink?system_id=bcycl...</td>\n",
       "      <td>1</td>\n",
       "      <td>1</td>\n",
       "      <td>bcycle_redding_7423</td>\n",
       "    </tr>\n",
       "  </tbody>\n",
       "</table>\n",
       "</div>"
      ],
      "text/plain": [
       "   empty_slots  free_bikes                                id  latitude  \\\n",
       "0            2           2  bb7665847eda4d3b5654ef23584bba2f  40.58002   \n",
       "1            3           2  3bb59ffd3799adff3f475e8d3985532f  40.58352   \n",
       "2            2           3  08aae6d19bdfffb93561437caf892f36  40.58435   \n",
       "3            3           2  dd5c0ef4079f9e920b3cdba5c3ca167c  40.59502   \n",
       "4            3           3  64a7ac84a24f102734b87abc4ba71af0  40.57337   \n",
       "\n",
       "   longitude                    name                    timestamp  \\\n",
       "0 -122.38890  Market and Gold Street  2024-05-21T04:46:17.148000Z   \n",
       "1 -122.39042     Market Center South  2024-05-21T04:46:17.152000Z   \n",
       "2 -122.39067     Market Center North  2024-05-21T04:46:17.153000Z   \n",
       "3 -122.40150     Diestelhorst Bridge  2024-05-21T04:46:17.160000Z   \n",
       "4 -122.38177       Redding City Hall  2024-05-21T04:46:17.161000Z   \n",
       "\n",
       "                 extra.address  extra.ebikes  extra.has_ebikes  \\\n",
       "0  Market Street & Gold Street             2              True   \n",
       "1  Market Street & Yuba Street             2              True   \n",
       "2            1371 Butte Street             3              True   \n",
       "3                 Benton Drive             2              True   \n",
       "4              777 Cypress Ave             3              True   \n",
       "\n",
       "   extra.last_updated  extra.normal_bikes  \\\n",
       "0          1716266776                   0   \n",
       "1          1716266776                   0   \n",
       "2          1716266776                   0   \n",
       "3          1716266776                   0   \n",
       "4          1716266776                   0   \n",
       "\n",
       "                           extra.rental_uris.android  \\\n",
       "0  https://www.bcycle.com/applink?system_id=bcycl...   \n",
       "1  https://www.bcycle.com/applink?system_id=bcycl...   \n",
       "2  https://www.bcycle.com/applink?system_id=bcycl...   \n",
       "3  https://www.bcycle.com/applink?system_id=bcycl...   \n",
       "4  https://www.bcycle.com/applink?system_id=bcycl...   \n",
       "\n",
       "                               extra.rental_uris.ios  extra.renting  \\\n",
       "0  https://www.bcycle.com/applink?system_id=bcycl...              1   \n",
       "1  https://www.bcycle.com/applink?system_id=bcycl...              1   \n",
       "2  https://www.bcycle.com/applink?system_id=bcycl...              1   \n",
       "3  https://www.bcycle.com/applink?system_id=bcycl...              1   \n",
       "4  https://www.bcycle.com/applink?system_id=bcycl...              1   \n",
       "\n",
       "   extra.returning            extra.uid  \n",
       "0                1  bcycle_redding_7427  \n",
       "1                1  bcycle_redding_7426  \n",
       "2                1  bcycle_redding_7425  \n",
       "3                1  bcycle_redding_7424  \n",
       "4                1  bcycle_redding_7423  "
      ]
     },
     "execution_count": 55,
     "metadata": {},
     "output_type": "execute_result"
    }
   ],
   "source": [
    "pd.json_normalize(results['network']['stations']).head()"
   ]
  },
  {
   "cell_type": "markdown",
   "metadata": {},
   "source": [
    "### Put your parsed results into a DataFrame."
   ]
  },
  {
   "cell_type": "code",
   "execution_count": 62,
   "metadata": {},
   "outputs": [],
   "source": [
    "ReddingStations = pd.json_normalize(results['network']['stations'])"
   ]
  },
  {
   "cell_type": "code",
   "execution_count": 66,
   "metadata": {},
   "outputs": [
    {
     "data": {
      "text/html": [
       "<div>\n",
       "<style scoped>\n",
       "    .dataframe tbody tr th:only-of-type {\n",
       "        vertical-align: middle;\n",
       "    }\n",
       "\n",
       "    .dataframe tbody tr th {\n",
       "        vertical-align: top;\n",
       "    }\n",
       "\n",
       "    .dataframe thead th {\n",
       "        text-align: right;\n",
       "    }\n",
       "</style>\n",
       "<table border=\"1\" class=\"dataframe\">\n",
       "  <thead>\n",
       "    <tr style=\"text-align: right;\">\n",
       "      <th></th>\n",
       "      <th>empty_slots</th>\n",
       "      <th>free_bikes</th>\n",
       "      <th>id</th>\n",
       "      <th>latitude</th>\n",
       "      <th>longitude</th>\n",
       "      <th>name</th>\n",
       "      <th>timestamp</th>\n",
       "      <th>extra.address</th>\n",
       "      <th>extra.ebikes</th>\n",
       "      <th>extra.has_ebikes</th>\n",
       "      <th>extra.last_updated</th>\n",
       "      <th>extra.normal_bikes</th>\n",
       "      <th>extra.rental_uris.android</th>\n",
       "      <th>extra.rental_uris.ios</th>\n",
       "      <th>extra.renting</th>\n",
       "      <th>extra.returning</th>\n",
       "      <th>extra.uid</th>\n",
       "    </tr>\n",
       "  </thead>\n",
       "  <tbody>\n",
       "    <tr>\n",
       "      <th>0</th>\n",
       "      <td>2</td>\n",
       "      <td>2</td>\n",
       "      <td>bb7665847eda4d3b5654ef23584bba2f</td>\n",
       "      <td>40.58002</td>\n",
       "      <td>-122.38890</td>\n",
       "      <td>Market and Gold Street</td>\n",
       "      <td>2024-05-21T04:46:17.148000Z</td>\n",
       "      <td>Market Street &amp; Gold Street</td>\n",
       "      <td>2</td>\n",
       "      <td>True</td>\n",
       "      <td>1716266776</td>\n",
       "      <td>0</td>\n",
       "      <td>https://www.bcycle.com/applink?system_id=bcycl...</td>\n",
       "      <td>https://www.bcycle.com/applink?system_id=bcycl...</td>\n",
       "      <td>1</td>\n",
       "      <td>1</td>\n",
       "      <td>bcycle_redding_7427</td>\n",
       "    </tr>\n",
       "    <tr>\n",
       "      <th>1</th>\n",
       "      <td>3</td>\n",
       "      <td>2</td>\n",
       "      <td>3bb59ffd3799adff3f475e8d3985532f</td>\n",
       "      <td>40.58352</td>\n",
       "      <td>-122.39042</td>\n",
       "      <td>Market Center South</td>\n",
       "      <td>2024-05-21T04:46:17.152000Z</td>\n",
       "      <td>Market Street &amp; Yuba Street</td>\n",
       "      <td>2</td>\n",
       "      <td>True</td>\n",
       "      <td>1716266776</td>\n",
       "      <td>0</td>\n",
       "      <td>https://www.bcycle.com/applink?system_id=bcycl...</td>\n",
       "      <td>https://www.bcycle.com/applink?system_id=bcycl...</td>\n",
       "      <td>1</td>\n",
       "      <td>1</td>\n",
       "      <td>bcycle_redding_7426</td>\n",
       "    </tr>\n",
       "    <tr>\n",
       "      <th>2</th>\n",
       "      <td>2</td>\n",
       "      <td>3</td>\n",
       "      <td>08aae6d19bdfffb93561437caf892f36</td>\n",
       "      <td>40.58435</td>\n",
       "      <td>-122.39067</td>\n",
       "      <td>Market Center North</td>\n",
       "      <td>2024-05-21T04:46:17.153000Z</td>\n",
       "      <td>1371 Butte Street</td>\n",
       "      <td>3</td>\n",
       "      <td>True</td>\n",
       "      <td>1716266776</td>\n",
       "      <td>0</td>\n",
       "      <td>https://www.bcycle.com/applink?system_id=bcycl...</td>\n",
       "      <td>https://www.bcycle.com/applink?system_id=bcycl...</td>\n",
       "      <td>1</td>\n",
       "      <td>1</td>\n",
       "      <td>bcycle_redding_7425</td>\n",
       "    </tr>\n",
       "    <tr>\n",
       "      <th>3</th>\n",
       "      <td>3</td>\n",
       "      <td>2</td>\n",
       "      <td>dd5c0ef4079f9e920b3cdba5c3ca167c</td>\n",
       "      <td>40.59502</td>\n",
       "      <td>-122.40150</td>\n",
       "      <td>Diestelhorst Bridge</td>\n",
       "      <td>2024-05-21T04:46:17.160000Z</td>\n",
       "      <td>Benton Drive</td>\n",
       "      <td>2</td>\n",
       "      <td>True</td>\n",
       "      <td>1716266776</td>\n",
       "      <td>0</td>\n",
       "      <td>https://www.bcycle.com/applink?system_id=bcycl...</td>\n",
       "      <td>https://www.bcycle.com/applink?system_id=bcycl...</td>\n",
       "      <td>1</td>\n",
       "      <td>1</td>\n",
       "      <td>bcycle_redding_7424</td>\n",
       "    </tr>\n",
       "    <tr>\n",
       "      <th>4</th>\n",
       "      <td>3</td>\n",
       "      <td>3</td>\n",
       "      <td>64a7ac84a24f102734b87abc4ba71af0</td>\n",
       "      <td>40.57337</td>\n",
       "      <td>-122.38177</td>\n",
       "      <td>Redding City Hall</td>\n",
       "      <td>2024-05-21T04:46:17.161000Z</td>\n",
       "      <td>777 Cypress Ave</td>\n",
       "      <td>3</td>\n",
       "      <td>True</td>\n",
       "      <td>1716266776</td>\n",
       "      <td>0</td>\n",
       "      <td>https://www.bcycle.com/applink?system_id=bcycl...</td>\n",
       "      <td>https://www.bcycle.com/applink?system_id=bcycl...</td>\n",
       "      <td>1</td>\n",
       "      <td>1</td>\n",
       "      <td>bcycle_redding_7423</td>\n",
       "    </tr>\n",
       "  </tbody>\n",
       "</table>\n",
       "</div>"
      ],
      "text/plain": [
       "   empty_slots  free_bikes                                id  latitude  \\\n",
       "0            2           2  bb7665847eda4d3b5654ef23584bba2f  40.58002   \n",
       "1            3           2  3bb59ffd3799adff3f475e8d3985532f  40.58352   \n",
       "2            2           3  08aae6d19bdfffb93561437caf892f36  40.58435   \n",
       "3            3           2  dd5c0ef4079f9e920b3cdba5c3ca167c  40.59502   \n",
       "4            3           3  64a7ac84a24f102734b87abc4ba71af0  40.57337   \n",
       "\n",
       "   longitude                    name                    timestamp  \\\n",
       "0 -122.38890  Market and Gold Street  2024-05-21T04:46:17.148000Z   \n",
       "1 -122.39042     Market Center South  2024-05-21T04:46:17.152000Z   \n",
       "2 -122.39067     Market Center North  2024-05-21T04:46:17.153000Z   \n",
       "3 -122.40150     Diestelhorst Bridge  2024-05-21T04:46:17.160000Z   \n",
       "4 -122.38177       Redding City Hall  2024-05-21T04:46:17.161000Z   \n",
       "\n",
       "                 extra.address  extra.ebikes  extra.has_ebikes  \\\n",
       "0  Market Street & Gold Street             2              True   \n",
       "1  Market Street & Yuba Street             2              True   \n",
       "2            1371 Butte Street             3              True   \n",
       "3                 Benton Drive             2              True   \n",
       "4              777 Cypress Ave             3              True   \n",
       "\n",
       "   extra.last_updated  extra.normal_bikes  \\\n",
       "0          1716266776                   0   \n",
       "1          1716266776                   0   \n",
       "2          1716266776                   0   \n",
       "3          1716266776                   0   \n",
       "4          1716266776                   0   \n",
       "\n",
       "                           extra.rental_uris.android  \\\n",
       "0  https://www.bcycle.com/applink?system_id=bcycl...   \n",
       "1  https://www.bcycle.com/applink?system_id=bcycl...   \n",
       "2  https://www.bcycle.com/applink?system_id=bcycl...   \n",
       "3  https://www.bcycle.com/applink?system_id=bcycl...   \n",
       "4  https://www.bcycle.com/applink?system_id=bcycl...   \n",
       "\n",
       "                               extra.rental_uris.ios  extra.renting  \\\n",
       "0  https://www.bcycle.com/applink?system_id=bcycl...              1   \n",
       "1  https://www.bcycle.com/applink?system_id=bcycl...              1   \n",
       "2  https://www.bcycle.com/applink?system_id=bcycl...              1   \n",
       "3  https://www.bcycle.com/applink?system_id=bcycl...              1   \n",
       "4  https://www.bcycle.com/applink?system_id=bcycl...              1   \n",
       "\n",
       "   extra.returning            extra.uid  \n",
       "0                1  bcycle_redding_7427  \n",
       "1                1  bcycle_redding_7426  \n",
       "2                1  bcycle_redding_7425  \n",
       "3                1  bcycle_redding_7424  \n",
       "4                1  bcycle_redding_7423  "
      ]
     },
     "execution_count": 66,
     "metadata": {},
     "output_type": "execute_result"
    }
   ],
   "source": [
    "ReddingStations.head()"
   ]
  },
  {
   "cell_type": "code",
   "execution_count": 67,
   "metadata": {},
   "outputs": [],
   "source": [
    "ReddingStations.to_csv('../data/ReddingBikesDF.csv',index=False)"
   ]
  },
  {
   "cell_type": "code",
   "execution_count": null,
   "metadata": {},
   "outputs": [],
   "source": []
  }
 ],
 "metadata": {
  "kernelspec": {
   "display_name": "Python 3",
   "language": "python",
   "name": "python3"
  },
  "language_info": {
   "codemirror_mode": {
    "name": "ipython",
    "version": 3
   },
   "file_extension": ".py",
   "mimetype": "text/x-python",
   "name": "python",
   "nbconvert_exporter": "python",
   "pygments_lexer": "ipython3",
   "version": "3.9.19"
  }
 },
 "nbformat": 4,
 "nbformat_minor": 4
}
