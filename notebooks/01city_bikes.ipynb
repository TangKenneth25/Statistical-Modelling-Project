{
 "cells": [
  {
   "cell_type": "markdown",
   "metadata": {},
   "source": [
    "# [CityBikes](https://citybik.es/)"
   ]
  },
  {
   "cell_type": "markdown",
   "metadata": {},
   "source": [
    "### Send a request to CityBikes for the city of your choice. "
   ]
  },
  {
   "cell_type": "code",
   "execution_count": 7,
   "metadata": {},
   "outputs": [],
   "source": [
    "import requests\n",
    "import json\n",
    "import pandas as pd"
   ]
  },
  {
   "cell_type": "code",
   "execution_count": 8,
   "metadata": {},
   "outputs": [
    {
     "name": "stdout",
     "output_type": "stream",
     "text": [
      "<Response [200]>\n"
     ]
    }
   ],
   "source": [
    "# Call fields, name, href, and location to figure out city endpoint\n",
    "url = 'http://api.citybik.es/v2/networks'\n",
    "response = requests.get(url)\n",
    "print(response)\n",
    "networks = response.json()"
   ]
  },
  {
   "cell_type": "code",
   "execution_count": 9,
   "metadata": {},
   "outputs": [
    {
     "name": "stdout",
     "output_type": "stream",
     "text": [
      "688\n",
      "/v2/networks/redding\n"
     ]
    }
   ],
   "source": [
    "# Finding index of Redding, CA in networks\n",
    "for i in range(len(networks['networks'])):\n",
    "    if 'Redding' in networks['networks'][i]['location']['city']:\n",
    "        index = i\n",
    "\n",
    "print(index)\n",
    "print(networks['networks'][index]['href'])\n"
   ]
  },
  {
   "cell_type": "code",
   "execution_count": 10,
   "metadata": {},
   "outputs": [],
   "source": [
    "href = networks['networks'][index]['href']"
   ]
  },
  {
   "cell_type": "code",
   "execution_count": 11,
   "metadata": {},
   "outputs": [],
   "source": [
    "# Sending request for Redding bike stations with Href endpoint\n",
    "url = fr'http://api.citybik.es{href}'\n",
    "response = requests.get(url)\n",
    "results = response.json()"
   ]
  },
  {
   "cell_type": "markdown",
   "metadata": {},
   "source": [
    "### Parse through the response to get the details you want for the bike stations in that city (latitude, longitude, number of bikes). "
   ]
  },
  {
   "cell_type": "markdown",
   "metadata": {},
   "source": [
    "#### Keys from Results Json Dictionary\n",
    "\n",
    "results.keys() <br>\n",
    "dict_keys(['networks'])\n",
    "\n",
    "results['network'].keys() <br>\n",
    "dict_keys(['company', 'gbfs_href', 'href', 'id', 'location', 'name', 'stations'])\n",
    "\n",
    "results['network']['location'].keys() <br>\n",
    "dict_keys(['city', 'country', 'latitude', 'longitude'])\n",
    "\n",
    "results['network']['stations'][0].keys() <br>\n",
    "dict_keys(['empty_slots', 'extra', 'free_bikes', 'id', 'latitude', 'longitude', 'name', 'timestamp'])\n",
    "\n"
   ]
  },
  {
   "cell_type": "code",
   "execution_count": 12,
   "metadata": {},
   "outputs": [
    {
     "name": "stdout",
     "output_type": "stream",
     "text": [
      "['BCycle, LLC']\n",
      "https://gbfs.bcycle.com/bcycle_redding/gbfs.json\n",
      "/v2/networks/redding\n",
      "redding\n",
      "{'city': 'Redding, CA', 'country': 'US', 'latitude': 40.5875, 'longitude': -122.386}\n",
      "Redding BCycle\n"
     ]
    }
   ],
   "source": [
    "print(results['network']['company'])\n",
    "print(results['network']['gbfs_href'])\n",
    "print(results['network']['href'])\n",
    "print(results['network']['id'])\n",
    "print(results['network']['location'])\n",
    "print(results['network']['name'])"
   ]
  },
  {
   "cell_type": "markdown",
   "metadata": {},
   "source": [
    "### Put your parsed results into a DataFrame."
   ]
  },
  {
   "cell_type": "code",
   "execution_count": 13,
   "metadata": {},
   "outputs": [],
   "source": [
    "ReddingStations = pd.json_normalize(results['network']['stations'])"
   ]
  },
  {
   "cell_type": "code",
   "execution_count": 21,
   "metadata": {},
   "outputs": [
    {
     "data": {
      "text/html": [
       "<div>\n",
       "<style scoped>\n",
       "    .dataframe tbody tr th:only-of-type {\n",
       "        vertical-align: middle;\n",
       "    }\n",
       "\n",
       "    .dataframe tbody tr th {\n",
       "        vertical-align: top;\n",
       "    }\n",
       "\n",
       "    .dataframe thead th {\n",
       "        text-align: right;\n",
       "    }\n",
       "</style>\n",
       "<table border=\"1\" class=\"dataframe\">\n",
       "  <thead>\n",
       "    <tr style=\"text-align: right;\">\n",
       "      <th></th>\n",
       "      <th>empty_slots</th>\n",
       "      <th>free_bikes</th>\n",
       "      <th>id</th>\n",
       "      <th>latitude</th>\n",
       "      <th>longitude</th>\n",
       "      <th>name</th>\n",
       "      <th>timestamp</th>\n",
       "      <th>extra.address</th>\n",
       "      <th>extra.ebikes</th>\n",
       "      <th>extra.has_ebikes</th>\n",
       "      <th>extra.last_updated</th>\n",
       "      <th>extra.normal_bikes</th>\n",
       "      <th>extra.renting</th>\n",
       "      <th>extra.returning</th>\n",
       "      <th>extra.uid</th>\n",
       "    </tr>\n",
       "  </thead>\n",
       "  <tbody>\n",
       "    <tr>\n",
       "      <th>0</th>\n",
       "      <td>2</td>\n",
       "      <td>2</td>\n",
       "      <td>bb7665847eda4d3b5654ef23584bba2f</td>\n",
       "      <td>40.58002</td>\n",
       "      <td>-122.38890</td>\n",
       "      <td>Market and Gold Street</td>\n",
       "      <td>2024-05-25T18:15:37.982000Z</td>\n",
       "      <td>Market Street &amp; Gold Street</td>\n",
       "      <td>2</td>\n",
       "      <td>True</td>\n",
       "      <td>1716660937</td>\n",
       "      <td>0</td>\n",
       "      <td>1</td>\n",
       "      <td>1</td>\n",
       "      <td>bcycle_redding_7427</td>\n",
       "    </tr>\n",
       "    <tr>\n",
       "      <th>1</th>\n",
       "      <td>3</td>\n",
       "      <td>2</td>\n",
       "      <td>3bb59ffd3799adff3f475e8d3985532f</td>\n",
       "      <td>40.58352</td>\n",
       "      <td>-122.39042</td>\n",
       "      <td>Market Center South</td>\n",
       "      <td>2024-05-25T18:15:38.034000Z</td>\n",
       "      <td>Market Street &amp; Yuba Street</td>\n",
       "      <td>2</td>\n",
       "      <td>True</td>\n",
       "      <td>1716660937</td>\n",
       "      <td>0</td>\n",
       "      <td>1</td>\n",
       "      <td>1</td>\n",
       "      <td>bcycle_redding_7426</td>\n",
       "    </tr>\n",
       "    <tr>\n",
       "      <th>2</th>\n",
       "      <td>2</td>\n",
       "      <td>3</td>\n",
       "      <td>08aae6d19bdfffb93561437caf892f36</td>\n",
       "      <td>40.58435</td>\n",
       "      <td>-122.39067</td>\n",
       "      <td>Market Center North</td>\n",
       "      <td>2024-05-25T18:15:38.035000Z</td>\n",
       "      <td>1371 Butte Street</td>\n",
       "      <td>3</td>\n",
       "      <td>True</td>\n",
       "      <td>1716660937</td>\n",
       "      <td>0</td>\n",
       "      <td>1</td>\n",
       "      <td>1</td>\n",
       "      <td>bcycle_redding_7425</td>\n",
       "    </tr>\n",
       "    <tr>\n",
       "      <th>3</th>\n",
       "      <td>3</td>\n",
       "      <td>0</td>\n",
       "      <td>dd5c0ef4079f9e920b3cdba5c3ca167c</td>\n",
       "      <td>40.59502</td>\n",
       "      <td>-122.40150</td>\n",
       "      <td>Diestelhorst Bridge</td>\n",
       "      <td>2024-05-25T18:15:38.036000Z</td>\n",
       "      <td>Benton Drive</td>\n",
       "      <td>0</td>\n",
       "      <td>True</td>\n",
       "      <td>1716660937</td>\n",
       "      <td>0</td>\n",
       "      <td>1</td>\n",
       "      <td>1</td>\n",
       "      <td>bcycle_redding_7424</td>\n",
       "    </tr>\n",
       "    <tr>\n",
       "      <th>4</th>\n",
       "      <td>3</td>\n",
       "      <td>3</td>\n",
       "      <td>64a7ac84a24f102734b87abc4ba71af0</td>\n",
       "      <td>40.57337</td>\n",
       "      <td>-122.38177</td>\n",
       "      <td>Redding City Hall</td>\n",
       "      <td>2024-05-25T18:15:38.037000Z</td>\n",
       "      <td>777 Cypress Ave</td>\n",
       "      <td>3</td>\n",
       "      <td>True</td>\n",
       "      <td>1716660937</td>\n",
       "      <td>0</td>\n",
       "      <td>1</td>\n",
       "      <td>1</td>\n",
       "      <td>bcycle_redding_7423</td>\n",
       "    </tr>\n",
       "  </tbody>\n",
       "</table>\n",
       "</div>"
      ],
      "text/plain": [
       "   empty_slots  free_bikes                                id  latitude  \\\n",
       "0            2           2  bb7665847eda4d3b5654ef23584bba2f  40.58002   \n",
       "1            3           2  3bb59ffd3799adff3f475e8d3985532f  40.58352   \n",
       "2            2           3  08aae6d19bdfffb93561437caf892f36  40.58435   \n",
       "3            3           0  dd5c0ef4079f9e920b3cdba5c3ca167c  40.59502   \n",
       "4            3           3  64a7ac84a24f102734b87abc4ba71af0  40.57337   \n",
       "\n",
       "   longitude                    name                    timestamp  \\\n",
       "0 -122.38890  Market and Gold Street  2024-05-25T18:15:37.982000Z   \n",
       "1 -122.39042     Market Center South  2024-05-25T18:15:38.034000Z   \n",
       "2 -122.39067     Market Center North  2024-05-25T18:15:38.035000Z   \n",
       "3 -122.40150     Diestelhorst Bridge  2024-05-25T18:15:38.036000Z   \n",
       "4 -122.38177       Redding City Hall  2024-05-25T18:15:38.037000Z   \n",
       "\n",
       "                 extra.address  extra.ebikes  extra.has_ebikes  \\\n",
       "0  Market Street & Gold Street             2              True   \n",
       "1  Market Street & Yuba Street             2              True   \n",
       "2            1371 Butte Street             3              True   \n",
       "3                 Benton Drive             0              True   \n",
       "4              777 Cypress Ave             3              True   \n",
       "\n",
       "   extra.last_updated  extra.normal_bikes  extra.renting  extra.returning  \\\n",
       "0          1716660937                   0              1                1   \n",
       "1          1716660937                   0              1                1   \n",
       "2          1716660937                   0              1                1   \n",
       "3          1716660937                   0              1                1   \n",
       "4          1716660937                   0              1                1   \n",
       "\n",
       "             extra.uid  \n",
       "0  bcycle_redding_7427  \n",
       "1  bcycle_redding_7426  \n",
       "2  bcycle_redding_7425  \n",
       "3  bcycle_redding_7424  \n",
       "4  bcycle_redding_7423  "
      ]
     },
     "execution_count": 21,
     "metadata": {},
     "output_type": "execute_result"
    }
   ],
   "source": [
    "ReddingStations.head()"
   ]
  },
  {
   "cell_type": "code",
   "execution_count": 18,
   "metadata": {},
   "outputs": [],
   "source": [
    "# Dropping uneccessary url columns\n",
    "ReddingStations.drop(columns=['extra.rental_uris.android','extra.rental_uris.ios'],inplace=True)"
   ]
  },
  {
   "cell_type": "code",
   "execution_count": 43,
   "metadata": {},
   "outputs": [],
   "source": [
    "# Renaming columns to be descriptive and clear to what they are\n",
    "ReddingStations.rename(columns={'extra.address': 'address', 'extra.ebikes': 'free_ebikes','extra.normal_bikes': 'free_normal_bikes','extra.renting':'renting',\n",
    "                                'extra.returning':'returning','extra.uid':'uid','extra.last_updated': 'last_updated','extra.has_ebikes':'has_ebikes'}, inplace=True\n",
    "                                )"
   ]
  },
  {
   "cell_type": "code",
   "execution_count": 44,
   "metadata": {},
   "outputs": [],
   "source": [
    "# Adding total bike slots column for each station \n",
    "ReddingStations['total_slots'] = ReddingStations['empty_slots'] + ReddingStations['free_bikes']"
   ]
  },
  {
   "cell_type": "code",
   "execution_count": 45,
   "metadata": {},
   "outputs": [
    {
     "data": {
      "text/plain": [
       "array(['id', 'uid', 'empty_slots', 'free_bikes', 'total_slots',\n",
       "       'latitude', 'longitude', 'name', 'address', 'free_ebikes',\n",
       "       'has_ebikes', 'free_normal_bikes', 'timestamp', 'last_updated',\n",
       "       'renting', 'returning'], dtype=object)"
      ]
     },
     "execution_count": 45,
     "metadata": {},
     "output_type": "execute_result"
    }
   ],
   "source": [
    "# Existing Columns in df\n",
    "ReddingStations.columns.values"
   ]
  },
  {
   "cell_type": "code",
   "execution_count": 48,
   "metadata": {},
   "outputs": [],
   "source": [
    "# Rearranging column order\n",
    "cols = ['id', 'uid', 'empty_slots', 'free_bikes', 'total_slots', 'latitude', 'longitude', 'name',\n",
    "        'address', 'free_ebikes', 'has_ebikes', 'free_normal_bikes', 'timestamp', 'last_updated', 'renting', 'returning'\n",
    "       ]\n",
    "ReddingStations = ReddingStations[cols]"
   ]
  },
  {
   "cell_type": "code",
   "execution_count": 50,
   "metadata": {},
   "outputs": [],
   "source": [
    "# Saving dataframe to csv. Commented out as to not accidentally overwrite existing files\n",
    "# ReddingStations.to_csv('../data/ReddingBikesDF.csv',index=False)"
   ]
  }
 ],
 "metadata": {
  "kernelspec": {
   "display_name": "Python 3",
   "language": "python",
   "name": "python3"
  },
  "language_info": {
   "codemirror_mode": {
    "name": "ipython",
    "version": 3
   },
   "file_extension": ".py",
   "mimetype": "text/x-python",
   "name": "python",
   "nbconvert_exporter": "python",
   "pygments_lexer": "ipython3",
   "version": "3.9.19"
  }
 },
 "nbformat": 4,
 "nbformat_minor": 4
}
