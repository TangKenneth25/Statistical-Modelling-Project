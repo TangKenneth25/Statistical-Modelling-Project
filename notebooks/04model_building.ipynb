{
 "cells": [
  {
   "cell_type": "markdown",
   "metadata": {},
   "source": [
    "### Build a regression model."
   ]
  },
  {
   "cell_type": "code",
   "execution_count": 2,
   "metadata": {},
   "outputs": [],
   "source": [
    "# Importing ibraries\n",
    "import statsmodels.api as sm\n",
    "import pandas as pd\n"
   ]
  },
  {
   "cell_type": "code",
   "execution_count": 150,
   "metadata": {},
   "outputs": [],
   "source": [
    "# Loading data from previous sections\n",
    "ReddingBikesDF = pd.read_csv('../data/ReddingBikesDF.csv')\n",
    "combinedSummaryDF = pd.read_csv('../data/combinedSummaryDF.csv', index_col=0)\n"
   ]
  },
  {
   "cell_type": "code",
   "execution_count": 151,
   "metadata": {},
   "outputs": [],
   "source": [
    "# Setting up numerical data for regression model\n",
    "bikeColumns = ['empty_slots', 'free_bikes', 'total_slots']\n",
    "combinedSummaryDF = pd.merge(combinedSummaryDF, ReddingBikesDF[bikeColumns], left_on=ReddingBikesDF.index, right_index=True)"
   ]
  },
  {
   "cell_type": "code",
   "execution_count": 152,
   "metadata": {},
   "outputs": [],
   "source": [
    "combinedSummaryDF.drop(columns='key_0',inplace=True)"
   ]
  },
  {
   "cell_type": "code",
   "execution_count": 153,
   "metadata": {},
   "outputs": [
    {
     "data": {
      "text/html": [
       "<div>\n",
       "<style scoped>\n",
       "    .dataframe tbody tr th:only-of-type {\n",
       "        vertical-align: middle;\n",
       "    }\n",
       "\n",
       "    .dataframe tbody tr th {\n",
       "        vertical-align: top;\n",
       "    }\n",
       "\n",
       "    .dataframe thead th {\n",
       "        text-align: right;\n",
       "    }\n",
       "</style>\n",
       "<table border=\"1\" class=\"dataframe\">\n",
       "  <thead>\n",
       "    <tr style=\"text-align: right;\">\n",
       "      <th></th>\n",
       "      <th>venueCount</th>\n",
       "      <th>distance</th>\n",
       "      <th>rating</th>\n",
       "      <th>totalRatings</th>\n",
       "      <th>price</th>\n",
       "      <th>empty_slots</th>\n",
       "      <th>free_bikes</th>\n",
       "      <th>total_slots</th>\n",
       "    </tr>\n",
       "    <tr>\n",
       "      <th>station</th>\n",
       "      <th></th>\n",
       "      <th></th>\n",
       "      <th></th>\n",
       "      <th></th>\n",
       "      <th></th>\n",
       "      <th></th>\n",
       "      <th></th>\n",
       "      <th></th>\n",
       "    </tr>\n",
       "  </thead>\n",
       "  <tbody>\n",
       "    <tr>\n",
       "      <th>0</th>\n",
       "      <td>43</td>\n",
       "      <td>523.970492</td>\n",
       "      <td>4.618605</td>\n",
       "      <td>177.918605</td>\n",
       "      <td>1.802326</td>\n",
       "      <td>2</td>\n",
       "      <td>2</td>\n",
       "      <td>4</td>\n",
       "    </tr>\n",
       "    <tr>\n",
       "      <th>1</th>\n",
       "      <td>46</td>\n",
       "      <td>354.960819</td>\n",
       "      <td>4.741304</td>\n",
       "      <td>166.489130</td>\n",
       "      <td>1.771739</td>\n",
       "      <td>3</td>\n",
       "      <td>2</td>\n",
       "      <td>5</td>\n",
       "    </tr>\n",
       "    <tr>\n",
       "      <th>2</th>\n",
       "      <td>46</td>\n",
       "      <td>348.262772</td>\n",
       "      <td>4.741304</td>\n",
       "      <td>166.489130</td>\n",
       "      <td>1.771739</td>\n",
       "      <td>2</td>\n",
       "      <td>3</td>\n",
       "      <td>5</td>\n",
       "    </tr>\n",
       "    <tr>\n",
       "      <th>3</th>\n",
       "      <td>4</td>\n",
       "      <td>960.983837</td>\n",
       "      <td>4.712500</td>\n",
       "      <td>112.875000</td>\n",
       "      <td>1.000000</td>\n",
       "      <td>3</td>\n",
       "      <td>0</td>\n",
       "      <td>3</td>\n",
       "    </tr>\n",
       "    <tr>\n",
       "      <th>4</th>\n",
       "      <td>13</td>\n",
       "      <td>630.752696</td>\n",
       "      <td>4.569231</td>\n",
       "      <td>116.576923</td>\n",
       "      <td>1.615385</td>\n",
       "      <td>3</td>\n",
       "      <td>3</td>\n",
       "      <td>6</td>\n",
       "    </tr>\n",
       "  </tbody>\n",
       "</table>\n",
       "</div>"
      ],
      "text/plain": [
       "         venueCount    distance    rating  totalRatings     price  \\\n",
       "station                                                             \n",
       "0                43  523.970492  4.618605    177.918605  1.802326   \n",
       "1                46  354.960819  4.741304    166.489130  1.771739   \n",
       "2                46  348.262772  4.741304    166.489130  1.771739   \n",
       "3                 4  960.983837  4.712500    112.875000  1.000000   \n",
       "4                13  630.752696  4.569231    116.576923  1.615385   \n",
       "\n",
       "         empty_slots  free_bikes  total_slots  \n",
       "station                                        \n",
       "0                  2           2            4  \n",
       "1                  3           2            5  \n",
       "2                  2           3            5  \n",
       "3                  3           0            3  \n",
       "4                  3           3            6  "
      ]
     },
     "execution_count": 153,
     "metadata": {},
     "output_type": "execute_result"
    }
   ],
   "source": [
    "combinedSummaryDF.head()"
   ]
  },
  {
   "cell_type": "code",
   "execution_count": 123,
   "metadata": {},
   "outputs": [],
   "source": [
    "X = pd.DataFrame(combinedSummaryDF[['venueCount','distance','rating','totalRatings','price']])\n",
    "Y = pd.Series(combinedSummaryDF['total_slots'])"
   ]
  },
  {
   "cell_type": "code",
   "execution_count": 124,
   "metadata": {},
   "outputs": [
    {
     "data": {
      "text/html": [
       "<div>\n",
       "<style scoped>\n",
       "    .dataframe tbody tr th:only-of-type {\n",
       "        vertical-align: middle;\n",
       "    }\n",
       "\n",
       "    .dataframe tbody tr th {\n",
       "        vertical-align: top;\n",
       "    }\n",
       "\n",
       "    .dataframe thead th {\n",
       "        text-align: right;\n",
       "    }\n",
       "</style>\n",
       "<table border=\"1\" class=\"dataframe\">\n",
       "  <thead>\n",
       "    <tr style=\"text-align: right;\">\n",
       "      <th></th>\n",
       "      <th>venueCount</th>\n",
       "      <th>distance</th>\n",
       "      <th>rating</th>\n",
       "      <th>totalRatings</th>\n",
       "      <th>price</th>\n",
       "    </tr>\n",
       "    <tr>\n",
       "      <th>station</th>\n",
       "      <th></th>\n",
       "      <th></th>\n",
       "      <th></th>\n",
       "      <th></th>\n",
       "      <th></th>\n",
       "    </tr>\n",
       "  </thead>\n",
       "  <tbody>\n",
       "    <tr>\n",
       "      <th>0</th>\n",
       "      <td>43</td>\n",
       "      <td>523.970492</td>\n",
       "      <td>4.618605</td>\n",
       "      <td>177.918605</td>\n",
       "      <td>1.802326</td>\n",
       "    </tr>\n",
       "    <tr>\n",
       "      <th>1</th>\n",
       "      <td>46</td>\n",
       "      <td>354.960819</td>\n",
       "      <td>4.741304</td>\n",
       "      <td>166.489130</td>\n",
       "      <td>1.771739</td>\n",
       "    </tr>\n",
       "    <tr>\n",
       "      <th>2</th>\n",
       "      <td>46</td>\n",
       "      <td>348.262772</td>\n",
       "      <td>4.741304</td>\n",
       "      <td>166.489130</td>\n",
       "      <td>1.771739</td>\n",
       "    </tr>\n",
       "    <tr>\n",
       "      <th>3</th>\n",
       "      <td>4</td>\n",
       "      <td>960.983837</td>\n",
       "      <td>4.712500</td>\n",
       "      <td>112.875000</td>\n",
       "      <td>1.000000</td>\n",
       "    </tr>\n",
       "    <tr>\n",
       "      <th>4</th>\n",
       "      <td>13</td>\n",
       "      <td>630.752696</td>\n",
       "      <td>4.569231</td>\n",
       "      <td>116.576923</td>\n",
       "      <td>1.615385</td>\n",
       "    </tr>\n",
       "  </tbody>\n",
       "</table>\n",
       "</div>"
      ],
      "text/plain": [
       "         venueCount    distance    rating  totalRatings     price\n",
       "station                                                          \n",
       "0                43  523.970492  4.618605    177.918605  1.802326\n",
       "1                46  354.960819  4.741304    166.489130  1.771739\n",
       "2                46  348.262772  4.741304    166.489130  1.771739\n",
       "3                 4  960.983837  4.712500    112.875000  1.000000\n",
       "4                13  630.752696  4.569231    116.576923  1.615385"
      ]
     },
     "execution_count": 124,
     "metadata": {},
     "output_type": "execute_result"
    }
   ],
   "source": [
    "X.head()"
   ]
  },
  {
   "cell_type": "code",
   "execution_count": 125,
   "metadata": {},
   "outputs": [
    {
     "data": {
      "text/plain": [
       "station\n",
       "0    4\n",
       "1    5\n",
       "2    5\n",
       "3    3\n",
       "4    6\n",
       "Name: total_slots, dtype: int64"
      ]
     },
     "execution_count": 125,
     "metadata": {},
     "output_type": "execute_result"
    }
   ],
   "source": [
    "Y.head()"
   ]
  },
  {
   "cell_type": "markdown",
   "metadata": {},
   "source": [
    "\n",
    "#### Provide model output and an interpretation of the results. "
   ]
  },
  {
   "cell_type": "markdown",
   "metadata": {},
   "source": [
    "## Backwards Selection Model"
   ]
  },
  {
   "cell_type": "code",
   "execution_count": 126,
   "metadata": {},
   "outputs": [
    {
     "name": "stdout",
     "output_type": "stream",
     "text": [
      "                            OLS Regression Results                            \n",
      "==============================================================================\n",
      "Dep. Variable:            total_slots   R-squared:                       0.545\n",
      "Model:                            OLS   Adj. R-squared:                  0.403\n",
      "Method:                 Least Squares   F-statistic:                     3.836\n",
      "Date:                Mon, 27 May 2024   Prob (F-statistic):             0.0178\n",
      "Time:                        20:42:34   Log-Likelihood:                -28.200\n",
      "No. Observations:                  22   AIC:                             68.40\n",
      "Df Residuals:                      16   BIC:                             74.95\n",
      "Df Model:                           5                                         \n",
      "Covariance Type:            nonrobust                                         \n",
      "================================================================================\n",
      "                   coef    std err          t      P>|t|      [0.025      0.975]\n",
      "--------------------------------------------------------------------------------\n",
      "const           13.9639     12.176      1.147      0.268     -11.849      39.777\n",
      "venueCount      -0.1149      0.044     -2.605      0.019      -0.208      -0.021\n",
      "distance        -0.0074      0.002     -3.223      0.005      -0.012      -0.003\n",
      "rating          -1.4779      2.698     -0.548      0.591      -7.197       4.242\n",
      "totalRatings     0.0264      0.016      1.616      0.126      -0.008       0.061\n",
      "price            0.8866      1.646      0.539      0.598      -2.603       4.376\n",
      "==============================================================================\n",
      "Omnibus:                       12.651   Durbin-Watson:                   1.745\n",
      "Prob(Omnibus):                  0.002   Jarque-Bera (JB):               11.431\n",
      "Skew:                           1.317   Prob(JB):                      0.00329\n",
      "Kurtosis:                       5.352   Cond. No.                     3.38e+04\n",
      "==============================================================================\n",
      "\n",
      "Notes:\n",
      "[1] Standard Errors assume that the covariance matrix of the errors is correctly specified.\n",
      "[2] The condition number is large, 3.38e+04. This might indicate that there are\n",
      "strong multicollinearity or other numerical problems.\n"
     ]
    }
   ],
   "source": [
    "X = sm.add_constant(X) # adding a constant\n",
    "lin_reg = sm.OLS(Y,X)\n",
    "model = lin_reg.fit()\n",
    "print_model = model.summary()\n",
    "print(print_model)"
   ]
  },
  {
   "cell_type": "markdown",
   "metadata": {},
   "source": [
    "Model is really bad, all p-values are above 0.05. A larger city with more bike station data would help lower the p-value and error. \n",
    "\n",
    "Continuing on though, removing the next highest p-value variable: price"
   ]
  },
  {
   "cell_type": "code",
   "execution_count": 127,
   "metadata": {},
   "outputs": [],
   "source": [
    "X.drop('price',inplace=True, axis=1)"
   ]
  },
  {
   "cell_type": "code",
   "execution_count": 128,
   "metadata": {},
   "outputs": [
    {
     "name": "stdout",
     "output_type": "stream",
     "text": [
      "                            OLS Regression Results                            \n",
      "==============================================================================\n",
      "Dep. Variable:            total_slots   R-squared:                       0.537\n",
      "Model:                            OLS   Adj. R-squared:                  0.428\n",
      "Method:                 Least Squares   F-statistic:                     4.929\n",
      "Date:                Mon, 27 May 2024   Prob (F-statistic):            0.00800\n",
      "Time:                        20:42:46   Log-Likelihood:                -28.398\n",
      "No. Observations:                  22   AIC:                             66.80\n",
      "Df Residuals:                      17   BIC:                             72.25\n",
      "Df Model:                           4                                         \n",
      "Covariance Type:            nonrobust                                         \n",
      "================================================================================\n",
      "                   coef    std err          t      P>|t|      [0.025      0.975]\n",
      "--------------------------------------------------------------------------------\n",
      "const           14.2272     11.910      1.195      0.249     -10.900      39.355\n",
      "venueCount      -0.1042      0.039     -2.704      0.015      -0.186      -0.023\n",
      "distance        -0.0072      0.002     -3.250      0.005      -0.012      -0.003\n",
      "rating          -1.3582      2.632     -0.516      0.612      -6.911       4.195\n",
      "totalRatings     0.0274      0.016      1.726      0.102      -0.006       0.061\n",
      "==============================================================================\n",
      "Omnibus:                       11.348   Durbin-Watson:                   1.794\n",
      "Prob(Omnibus):                  0.003   Jarque-Bera (JB):                9.532\n",
      "Skew:                           1.243   Prob(JB):                      0.00852\n",
      "Kurtosis:                       5.055   Cond. No.                     3.38e+04\n",
      "==============================================================================\n",
      "\n",
      "Notes:\n",
      "[1] Standard Errors assume that the covariance matrix of the errors is correctly specified.\n",
      "[2] The condition number is large, 3.38e+04. This might indicate that there are\n",
      "strong multicollinearity or other numerical problems.\n"
     ]
    }
   ],
   "source": [
    "lin_reg = sm.OLS(Y,X)\n",
    "model = lin_reg.fit()\n",
    "print_model = model.summary()\n",
    "print(print_model)"
   ]
  },
  {
   "cell_type": "markdown",
   "metadata": {},
   "source": [
    "Model looks much better! Not all variables are rejecting null hypothesis yet. Dropping rating next"
   ]
  },
  {
   "cell_type": "code",
   "execution_count": 129,
   "metadata": {},
   "outputs": [],
   "source": [
    "X.drop('rating',inplace=True, axis=1)"
   ]
  },
  {
   "cell_type": "code",
   "execution_count": 130,
   "metadata": {},
   "outputs": [
    {
     "name": "stdout",
     "output_type": "stream",
     "text": [
      "                            OLS Regression Results                            \n",
      "==============================================================================\n",
      "Dep. Variable:            total_slots   R-squared:                       0.530\n",
      "Model:                            OLS   Adj. R-squared:                  0.451\n",
      "Method:                 Least Squares   F-statistic:                     6.758\n",
      "Date:                Mon, 27 May 2024   Prob (F-statistic):            0.00301\n",
      "Time:                        20:43:03   Log-Likelihood:                -28.569\n",
      "No. Observations:                  22   AIC:                             65.14\n",
      "Df Residuals:                      18   BIC:                             69.50\n",
      "Df Model:                           3                                         \n",
      "Covariance Type:            nonrobust                                         \n",
      "================================================================================\n",
      "                   coef    std err          t      P>|t|      [0.025      0.975]\n",
      "--------------------------------------------------------------------------------\n",
      "const            8.2201      2.464      3.337      0.004       3.044      13.396\n",
      "venueCount      -0.0895      0.025     -3.536      0.002      -0.143      -0.036\n",
      "distance        -0.0068      0.002     -3.311      0.004      -0.011      -0.003\n",
      "totalRatings     0.0204      0.008      2.486      0.023       0.003       0.038\n",
      "==============================================================================\n",
      "Omnibus:                       13.077   Durbin-Watson:                   1.843\n",
      "Prob(Omnibus):                  0.001   Jarque-Bera (JB):               11.919\n",
      "Skew:                           1.368   Prob(JB):                      0.00258\n",
      "Kurtosis:                       5.350   Cond. No.                     6.98e+03\n",
      "==============================================================================\n",
      "\n",
      "Notes:\n",
      "[1] Standard Errors assume that the covariance matrix of the errors is correctly specified.\n",
      "[2] The condition number is large, 6.98e+03. This might indicate that there are\n",
      "strong multicollinearity or other numerical problems.\n"
     ]
    }
   ],
   "source": [
    "lin_reg = sm.OLS(Y,X)\n",
    "model = lin_reg.fit()\n",
    "print_model = model.summary()\n",
    "print(print_model)"
   ]
  },
  {
   "cell_type": "markdown",
   "metadata": {},
   "source": [
    "Better again, dropping the next variable: totalRating"
   ]
  },
  {
   "cell_type": "code",
   "execution_count": 133,
   "metadata": {},
   "outputs": [],
   "source": [
    "X.drop('totalRatings',inplace=True, axis=1)"
   ]
  },
  {
   "cell_type": "code",
   "execution_count": 134,
   "metadata": {},
   "outputs": [
    {
     "name": "stdout",
     "output_type": "stream",
     "text": [
      "                            OLS Regression Results                            \n",
      "==============================================================================\n",
      "Dep. Variable:            total_slots   R-squared:                       0.368\n",
      "Model:                            OLS   Adj. R-squared:                  0.302\n",
      "Method:                 Least Squares   F-statistic:                     5.539\n",
      "Date:                Mon, 27 May 2024   Prob (F-statistic):             0.0127\n",
      "Time:                        20:44:05   Log-Likelihood:                -31.815\n",
      "No. Observations:                  22   AIC:                             69.63\n",
      "Df Residuals:                      19   BIC:                             72.90\n",
      "Df Model:                           2                                         \n",
      "Covariance Type:            nonrobust                                         \n",
      "==============================================================================\n",
      "                 coef    std err          t      P>|t|      [0.025      0.975]\n",
      "------------------------------------------------------------------------------\n",
      "const         11.9609      2.200      5.436      0.000       7.356      16.566\n",
      "venueCount    -0.0897      0.029     -3.143      0.005      -0.149      -0.030\n",
      "distance      -0.0073      0.002     -3.159      0.005      -0.012      -0.002\n",
      "==============================================================================\n",
      "Omnibus:                        5.550   Durbin-Watson:                   2.055\n",
      "Prob(Omnibus):                  0.062   Jarque-Bera (JB):                3.416\n",
      "Skew:                           0.877   Prob(JB):                        0.181\n",
      "Kurtosis:                       3.809   Cond. No.                     5.31e+03\n",
      "==============================================================================\n",
      "\n",
      "Notes:\n",
      "[1] Standard Errors assume that the covariance matrix of the errors is correctly specified.\n",
      "[2] The condition number is large, 5.31e+03. This might indicate that there are\n",
      "strong multicollinearity or other numerical problems.\n"
     ]
    }
   ],
   "source": [
    "lin_reg = sm.OLS(Y,X)\n",
    "model = lin_reg.fit()\n",
    "print_model = model.summary()\n",
    "print(print_model)"
   ]
  },
  {
   "cell_type": "markdown",
   "metadata": {},
   "source": [
    "We reach a a model that rejects the null hypothesis, giving us a statistically significant model of:\n",
    "\n",
    " `11.9609-0.0897(venueCount)-0.0073(distanceInMeters)=(BikeSlots)`\n",
    "\n",
    "This model shows that the amount of bike slots at each bike stations location is dependent on the average distance to the number of venues nearby. \n"
   ]
  }
 ],
 "metadata": {
  "kernelspec": {
   "display_name": "Python 3",
   "language": "python",
   "name": "python3"
  },
  "language_info": {
   "codemirror_mode": {
    "name": "ipython",
    "version": 3
   },
   "file_extension": ".py",
   "mimetype": "text/x-python",
   "name": "python",
   "nbconvert_exporter": "python",
   "pygments_lexer": "ipython3",
   "version": "3.9.19"
  }
 },
 "nbformat": 4,
 "nbformat_minor": 4
}
